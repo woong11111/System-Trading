{
 "cells": [
  {
   "cell_type": "markdown",
   "metadata": {},
   "source": [
    "## 1. Restful API \n",
    "\n",
    " -  웹 주소를 사용해서 현재가를 얻어오거나, 주문을 발행하는 등 하는 웹 API를 RestfulAPI 라고 부름"
   ]
  },
  {
   "cell_type": "code",
   "execution_count": 12,
   "metadata": {},
   "outputs": [],
   "source": [
    "import requests\n",
    "\n",
    "request_btc = requests.get(\"https://api.korbit.co.kr/v1/ticker/detailed?currency_pair=btc_krw\")"
   ]
  },
  {
   "cell_type": "code",
   "execution_count": 13,
   "metadata": {},
   "outputs": [
    {
     "data": {
      "text/plain": [
       "'{\"timestamp\":1559784202017,\"last\":\"9474500\",\"open\":\"9521500\",\"bid\":\"9478000\",\"ask\":\"9487000\",\"low\":\"9323500\",\"high\":\"9626500\",\"volume\":\"499.003515057393764313\",\"change\":\"-47000\",\"changePercent\":\"-0.49\"}'"
      ]
     },
     "execution_count": 13,
     "metadata": {},
     "output_type": "execute_result"
    }
   ],
   "source": [
    "request_btc.text"
   ]
  },
  {
   "cell_type": "code",
   "execution_count": 8,
   "metadata": {},
   "outputs": [
    {
     "name": "stdout",
     "output_type": "stream",
     "text": [
      "<class 'str'>\n"
     ]
    }
   ],
   "source": [
    "print(type(r.text))"
   ]
  },
  {
   "cell_type": "markdown",
   "metadata": {},
   "source": [
    "## 2. JSON 활용\n",
    "\n",
    " - request 의 get() 함수로 얻어온 데이터는 JSON 포맷으로, 파이썬 딕셔너리 타입으로 변환해서 Key 값을 활용하고자 함"
   ]
  },
  {
   "cell_type": "code",
   "execution_count": 14,
   "metadata": {},
   "outputs": [
    {
     "name": "stdout",
     "output_type": "stream",
     "text": [
      "{'timestamp': 1559784385162, 'last': '487.1', 'open': '488.5', 'bid': '487.1', 'ask': '487.8', 'low': '476.6', 'high': '493', 'volume': '5362508.064862436369072218', 'change': '-1.4', 'changePercent': '-0.29'}\n",
      "<class 'dict'>\n"
     ]
    }
   ],
   "source": [
    "import requests\n",
    "\n",
    "request_xrp = requests.get(\"https://api.korbit.co.kr/v1/ticker/detailed?currency_pair=xrp_krw\")\n",
    "bitcoin = request_xrp.json() # json() 메소드로 딕셔너리 변환\n",
    "print(bitcoin)\n",
    "print(type(bitcoin))"
   ]
  },
  {
   "cell_type": "markdown",
   "metadata": {},
   "source": [
    "- timestamp : 최종 체결 시각 # 일반적으로 1970년 1월 1일부터 지난 시간(밀리세컨(1/1000)) 를 의미하며 프로그래밍에서 빈번히 사용\n",
    "- last : 최종 체결 가격\n",
    "- open : 시초가\n",
    "- bid : 최우선 매수호가\n",
    "- ask : 최우선 매도호가\n",
    "- low : 24시간 저가\n",
    "- high : 24시간 고가"
   ]
  },
  {
   "cell_type": "code",
   "execution_count": 15,
   "metadata": {},
   "outputs": [
    {
     "name": "stdout",
     "output_type": "stream",
     "text": [
      "487.1\n"
     ]
    }
   ],
   "source": [
    "print(bitcoin['last'])"
   ]
  },
  {
   "cell_type": "code",
   "execution_count": 19,
   "metadata": {},
   "outputs": [
    {
     "name": "stdout",
     "output_type": "stream",
     "text": [
      "2019-06-06 10:26:25.162000\n"
     ]
    }
   ],
   "source": [
    "import datetime\n",
    "\n",
    "timestamp = bitcoin['timestamp']\n",
    "date = datetime.datetime.fromtimestamp(timestamp/1000)\n",
    "print(date)"
   ]
  },
  {
   "cell_type": "code",
   "execution_count": null,
   "metadata": {},
   "outputs": [],
   "source": []
  }
 ],
 "metadata": {
  "kernelspec": {
   "display_name": "Python 3",
   "language": "python",
   "name": "python3"
  },
  "language_info": {
   "codemirror_mode": {
    "name": "ipython",
    "version": 3
   },
   "file_extension": ".py",
   "mimetype": "text/x-python",
   "name": "python",
   "nbconvert_exporter": "python",
   "pygments_lexer": "ipython3",
   "version": "3.7.3"
  }
 },
 "nbformat": 4,
 "nbformat_minor": 2
}
