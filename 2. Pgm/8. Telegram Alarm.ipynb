{
 "cells": [
  {
   "cell_type": "code",
   "execution_count": 8,
   "metadata": {},
   "outputs": [],
   "source": [
    "import telegram # 텔레그램 모듈을 임포트합니다.\n",
    "\n",
    "my_token = '792893091:AAHHx31qD6rK-GXqKuZrhk4BddpsTDH_QTE' # 토큰을 변수에 저장합니다.\n",
    "\n",
    "bot = telegram.Bot(token = my_token) # bot을 선언합니다.\n",
    "\n",
    "updates = bot.getUpdates() # 업데이트 내역을 받아옵니다.\n",
    "\n",
    "for u in updates:\n",
    "    print(u.message) # 업데이트 내역 중 메시지를 출력합니다."
   ]
  },
  {
   "cell_type": "code",
   "execution_count": 13,
   "metadata": {},
   "outputs": [
    {
     "data": {
      "text/plain": [
       "<telegram.message.Message at 0x9b7b2d0>"
      ]
     },
     "execution_count": 13,
     "metadata": {},
     "output_type": "execute_result"
    }
   ],
   "source": [
    "chat_id = bot.getUpdates()[-1].message.chat.id\n",
    "bot.sendMessage(chat_id = chat_id, text=\"안녕하세요.\")"
   ]
  },
  {
   "cell_type": "code",
   "execution_count": 5,
   "metadata": {},
   "outputs": [
    {
     "name": "stdout",
     "output_type": "stream",
     "text": [
      "13779000.0\n"
     ]
    }
   ],
   "source": [
    "import pybithumb\n",
    "\n",
    "current_price = pybithumb.get_current_price(\"BTC\")\n",
    "print(current_price)"
   ]
  },
  {
   "cell_type": "code",
   "execution_count": 10,
   "metadata": {},
   "outputs": [],
   "source": [
    "if current_price < 14000000 :\n",
    "    bot.sendMessage(chat_id = chat_id, text = [\"a\", current_price])"
   ]
  },
  {
   "cell_type": "code",
   "execution_count": null,
   "metadata": {},
   "outputs": [],
   "source": []
  }
 ],
 "metadata": {
  "kernelspec": {
   "display_name": "Python 3",
   "language": "python",
   "name": "python3"
  },
  "language_info": {
   "codemirror_mode": {
    "name": "ipython",
    "version": 3
   },
   "file_extension": ".py",
   "mimetype": "text/x-python",
   "name": "python",
   "nbconvert_exporter": "python",
   "pygments_lexer": "ipython3",
   "version": "3.7.3"
  }
 },
 "nbformat": 4,
 "nbformat_minor": 2
}
