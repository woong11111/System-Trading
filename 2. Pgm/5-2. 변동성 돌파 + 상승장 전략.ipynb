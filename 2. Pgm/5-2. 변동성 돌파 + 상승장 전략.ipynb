{
 "cells": [
  {
   "cell_type": "markdown",
   "metadata": {},
   "source": [
    " - 변동성 돌파 + 이평선 위 정배열 공략"
   ]
  },
  {
   "cell_type": "code",
   "execution_count": 1,
   "metadata": {},
   "outputs": [],
   "source": [
    "import pybithumb\n",
    "\n",
    "def get_yesterday_ma5(ticker) :\n",
    "    df = pybithumb.get_ohlcv(ticker)\n",
    "    close = df['close']\n",
    "    ma = close.rolling(window=5).mean()\n",
    "    return ma[-2]"
   ]
  },
  {
   "cell_type": "code",
   "execution_count": 2,
   "metadata": {},
   "outputs": [
    {
     "data": {
      "text/plain": [
       "11122000.0"
      ]
     },
     "execution_count": 2,
     "metadata": {},
     "output_type": "execute_result"
    }
   ],
   "source": [
    "import time\n",
    "import pybithumb\n",
    "import datetime\n",
    "\n",
    "def get_target_price(ticker):\n",
    "    df = pybithumb.get_ohlcv(ticker)\n",
    "    yesterday = df.iloc[-2]\n",
    "    today_open = yesterday['close']\n",
    "    yesterday_high = yesterday['high']\n",
    "    yesterday_low = yesterday['low']\n",
    "    target = today_open + (yesterday_high - yesterday_low) * 0.5\n",
    "    return target\n",
    "\n",
    "\n",
    "def get_yesterday_ma5(ticker) :\n",
    "    df = pybithumb.get_ohlcv(ticker)\n",
    "    close = df['close']\n",
    "    ma = close.rolling(window=5).mean()\n",
    "    return ma[-2]\n",
    "\n",
    "\n",
    "\n",
    "now = datetime.datetime.now()\n",
    "mid = datetime.datetime(now.year, now.month, now.day) + datetime.timedelta(1)\n",
    "ma5 = get_yesterday_ma5(\"ZIL\")\n",
    "target_price = get_target_price(\"ZIL\")\n",
    "\n",
    "\n",
    "while True : \n",
    "    try :\n",
    "        now = datetime.datetime.now()\n",
    "        if mid < now < mid + datetime.timedelta(seconds=10) :\n",
    "            target_price = get_target_price(\"ZIL\")\n",
    "            mid = datetime.datetime(now.year, now.month, now.day) + datetime.timedelta(1)\n",
    "            ma5 = get_yesterday_ma5(\"ZIL\")\n",
    "            sell_crypto_currency(\"ZIL\")\n",
    "    \n",
    "        current_price = pybithumb.get_current_price(\"ZIL\")\n",
    "        if (current_price > target_price) and (current_price > ma5) :\n",
    "            buy_crypto_currency(\"ZIL\")\n",
    "            \n",
    "    except :\n",
    "        print(\"에러 발생\")\n",
    "    time.sleep(1)"
   ]
  },
  {
   "cell_type": "code",
   "execution_count": null,
   "metadata": {},
   "outputs": [],
   "source": []
  }
 ],
 "metadata": {
  "kernelspec": {
   "display_name": "Python 3",
   "language": "python",
   "name": "python3"
  },
  "language_info": {
   "codemirror_mode": {
    "name": "ipython",
    "version": 3
   },
   "file_extension": ".py",
   "mimetype": "text/x-python",
   "name": "python",
   "nbconvert_exporter": "python",
   "pygments_lexer": "ipython3",
   "version": "3.7.3"
  }
 },
 "nbformat": 4,
 "nbformat_minor": 2
}
