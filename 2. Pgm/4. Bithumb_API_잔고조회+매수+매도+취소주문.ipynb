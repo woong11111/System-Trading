{
 "cells": [
  {
   "cell_type": "markdown",
   "metadata": {},
   "source": [
    "## 1. Bithumb 클래스 생성"
   ]
  },
  {
   "cell_type": "code",
   "execution_count": 24,
   "metadata": {},
   "outputs": [],
   "source": [
    "import pybithumb\n",
    "import time"
   ]
  },
  {
   "cell_type": "code",
   "execution_count": 1,
   "metadata": {},
   "outputs": [],
   "source": [
    "\n",
    "con_key = \"0xxx\"\n",
    "sec_key = \"0xxx\"\n",
    "\n",
    "bithumb = pybithumb.Bithumb(con_key, sec_key) # Bithumb 클래스 객체를 생성하는데 초기화자(__init__)로 두 키 값을 전달\n"
   ]
  },
  {
   "cell_type": "code",
   "execution_count": 25,
   "metadata": {},
   "outputs": [],
   "source": [
    "with open(\"../../bithumb_api_key.txt\") as f:\n",
    "    lines = f.readlines()\n",
    "    key = lines[0].strip()\n",
    "    secret = lines[1].strip()\n",
    "    bithumb = pybithumb.Bithumb(key, secret)"
   ]
  },
  {
   "cell_type": "markdown",
   "metadata": {},
   "source": [
    "## 2. 잔고 조회"
   ]
  },
  {
   "cell_type": "code",
   "execution_count": 26,
   "metadata": {},
   "outputs": [
    {
     "name": "stdout",
     "output_type": "stream",
     "text": [
      "(0.0, 0.0, 3000.0, 0.0)\n",
      "0.000000\n"
     ]
    }
   ],
   "source": [
    "balance = bithumb.get_balance(\"BTC\")\n",
    "print(balance)\n",
    "# tuple 로 출력\n",
    " # ex ) (4.533e-05, 0.0, 11000.0, 0.0)\n",
    "  #      비트코인 총 잔고, 거래 중인 비트코인 수량, 보유중인 총 원화, 주문에 사용된 원화\n",
    "print(format(balance[0], 'f')) \n",
    " # 지수승 -> 10진수로 표현됨"
   ]
  },
  {
   "cell_type": "code",
   "execution_count": 4,
   "metadata": {
    "scrolled": true
   },
   "outputs": [
    {
     "name": "stdout",
     "output_type": "stream",
     "text": [
      "BTC : (0.0, 0.0, 3000.0, 0.0)\n",
      "ETH : (0.0, 0.0, 3000.0, 0.0)\n",
      "DASH : (0.0, 0.0, 3000.0, 0.0)\n",
      "LTC : (0.0, 0.0, 3000.0, 0.0)\n",
      "ETC : (0.0, 0.0, 3000.0, 0.0)\n",
      "XRP : (0.0, 0.0, 3000.0, 0.0)\n",
      "BCH : (0.0, 0.0, 3000.0, 0.0)\n",
      "XMR : (0.0, 0.0, 3000.0, 0.0)\n",
      "ZEC : (0.0, 0.0, 3000.0, 0.0)\n",
      "QTUM : (0.0, 0.0, 3000.0, 0.0)\n",
      "BTG : (0.0, 0.0, 3000.0, 0.0)\n",
      "EOS : (0.0, 0.0, 3000.0, 0.0)\n",
      "ICX : (0.0, 0.0, 3000.0, 0.0)\n",
      "VET : (0.0, 0.0, 3000.0, 0.0)\n",
      "TRX : (0.0, 0.0, 3000.0, 0.0)\n",
      "ELF : (0.0, 0.0, 3000.0, 0.0)\n",
      "MITH : (0.0, 0.0, 3000.0, 0.0)\n",
      "MCO : (0.0, 0.0, 3000.0, 0.0)\n",
      "OMG : (0.0, 0.0, 3000.0, 0.0)\n",
      "KNC : (0.0, 0.0, 3000.0, 0.0)\n",
      "GNT : (0.0, 0.0, 3000.0, 0.0)\n",
      "ZIL : (0.0, 0.0, 3000.0, 0.0)\n",
      "ETHOS : (0.0, 0.0, 3000.0, 0.0)\n",
      "PAY : (0.0, 0.0, 3000.0, 0.0)\n",
      "WAX : (0.0, 0.0, 3000.0, 0.0)\n",
      "POWR : (0.0, 0.0, 3000.0, 0.0)\n",
      "LRC : (0.0, 0.0, 3000.0, 0.0)\n",
      "GTO : (0.0, 0.0, 3000.0, 0.0)\n",
      "STEEM : (0.0, 0.0, 3000.0, 0.0)\n",
      "STRAT : (0.0, 0.0, 3000.0, 0.0)\n",
      "ZRX : (0.0, 0.0, 3000.0, 0.0)\n",
      "REP : (0.0, 0.0, 3000.0, 0.0)\n",
      "AE : (0.0, 0.0, 3000.0, 0.0)\n",
      "XEM : (0.0, 0.0, 3000.0, 0.0)\n",
      "SNT : (0.0, 0.0, 3000.0, 0.0)\n",
      "ADA : (0.0, 0.0, 3000.0, 0.0)\n",
      "PPT : (0.0, 0.0, 3000.0, 0.0)\n",
      "CTXC : (0.0, 0.0, 3000.0, 0.0)\n",
      "CMT : (0.0, 0.0, 3000.0, 0.0)\n",
      "THETA : (0.0, 0.0, 3000.0, 0.0)\n",
      "WTC : (0.0, 0.0, 3000.0, 0.0)\n",
      "ITC : (0.0, 0.0, 3000.0, 0.0)\n",
      "TRUE : (0.0, 0.0, 3000.0, 0.0)\n",
      "ABT : (0.0, 0.0, 3000.0, 0.0)\n",
      "RNT : (0.0, 0.0, 3000.0, 0.0)\n",
      "PLY : (0.0, 0.0, 3000.0, 0.0)\n",
      "WAVES : (0.0, 0.0, 3000.0, 0.0)\n",
      "LINK : (0.0, 0.0, 3000.0, 0.0)\n",
      "ENJ : (0.0, 0.0, 3000.0, 0.0)\n",
      "PST : (0.0, 0.0, 3000.0, 0.0)\n",
      "SALT : (0.0, 0.0, 3000.0, 0.0)\n",
      "RDN : (0.0, 0.0, 3000.0, 0.0)\n",
      "LOOM : (0.0, 0.0, 3000.0, 0.0)\n",
      "PIVX : (0.0, 0.0, 3000.0, 0.0)\n",
      "INS : (0.0, 0.0, 3000.0, 0.0)\n",
      "BCD : (0.0, 0.0, 3000.0, 0.0)\n",
      "BZNT : (0.0, 0.0, 3000.0, 0.0)\n",
      "XLM : (0.0, 0.0, 3000.0, 0.0)\n",
      "OCN : (0.0, 0.0, 3000.0, 0.0)\n",
      "BSV : (0.0, 0.0, 3000.0, 0.0)\n",
      "TMTG : (0.0, 0.0, 3000.0, 0.0)\n",
      "BAT : (0.0, 0.0, 3000.0, 0.0)\n",
      "WET : (0.0, 0.0, 3000.0, 0.0)\n",
      "XVG : (0.0, 0.0, 3000.0, 0.0)\n",
      "IOST : (0.0, 0.0, 3000.0, 0.0)\n",
      "POLY : (0.0, 0.0, 3000.0, 0.0)\n",
      "HC : (0.0, 0.0, 3000.0, 0.0)\n",
      "ROM : (0.0, 0.0, 3000.0, 0.0)\n",
      "AMO : (0.0, 0.0, 3000.0, 0.0)\n",
      "ETZ : (0.0, 0.0, 3000.0, 0.0)\n",
      "ARN : (0.0, 0.0, 3000.0, 0.0)\n",
      "APIS : (0.0, 0.0, 3000.0, 0.0)\n",
      "MTL : (0.0, 0.0, 3000.0, 0.0)\n",
      "DACC : (0.0, 0.0, 3000.0, 0.0)\n",
      "DAC : (0.0, 0.0, 3000.0, 0.0)\n",
      "BHP : (0.0, 0.0, 3000.0, 0.0)\n",
      "BTT : (0.0, 0.0, 3000.0, 0.0)\n",
      "HDAC : (0.0, 0.0, 3000.0, 0.0)\n",
      "NPXS : (0.0, 0.0, 3000.0, 0.0)\n",
      "AUTO : (0.0, 0.0, 3000.0, 0.0)\n",
      "GXC : (0.0, 0.0, 3000.0, 0.0)\n",
      "ORBS : (0.0, 0.0, 3000.0, 0.0)\n",
      "VALOR : (0.0, 0.0, 3000.0, 0.0)\n",
      "CON : (0.0, 0.0, 3000.0, 0.0)\n",
      "ANKR : (0.0, 0.0, 3000.0, 0.0)\n",
      "MIX : (0.0, 0.0, 3000.0, 0.0)\n"
     ]
    }
   ],
   "source": [
    "for ticker in pybithumb.get_tickers():\n",
    "    balance = bithumb.get_balance(ticker)\n",
    "    print(ticker, \":\", balance)\n",
    "    time.sleep(0.1) #0.1초에 1개씩 모든 코인의 잔고를 화면에 출력\n"
   ]
  },
  {
   "cell_type": "markdown",
   "metadata": {},
   "source": [
    "## 3. 매수"
   ]
  },
  {
   "cell_type": "markdown",
   "metadata": {},
   "source": [
    "#### 1) 지정가/시장가 매수"
   ]
  },
  {
   "cell_type": "code",
   "execution_count": 27,
   "metadata": {},
   "outputs": [
    {
     "name": "stdout",
     "output_type": "stream",
     "text": [
      "('bid', 'ZIL', '1560581630650329')\n"
     ]
    }
   ],
   "source": [
    "order = bithumb.buy_limit_order(\"ZIL\", 26.5, 100) # 지정가 매수(티커, 가격, 수량)\n",
    "# order = bithumb.buy_market_order(\"BTC\", 1) # 시장가 매수(티커, 수량)\n",
    "print(order)\n",
    "# 결과) ('bid', 'BTC', '1544378327') 주문 종류, 티커, 주문 번호가 튜플로 반환"
   ]
  },
  {
   "cell_type": "markdown",
   "metadata": {},
   "source": [
    "#### 2) 시장가 매수 가능 수량 구하기"
   ]
  },
  {
   "cell_type": "code",
   "execution_count": 17,
   "metadata": {},
   "outputs": [
    {
     "name": "stdout",
     "output_type": "stream",
     "text": [
      "최우선 매도 가 : 28.3 //// 시장가 매수 가능 수량 : 106.00706713780919\n"
     ]
    }
   ],
   "source": [
    "krw = bithumb.get_balance(\"ZIL\")[2]\n",
    "orderbook = pybithumb.get_orderbook(\"ZIL\")\n",
    "\n",
    "asks = orderbook['asks']\n",
    "sell_price = asks[0]['price']\n",
    "unit = krw/sell_price\n",
    "print('최우선 매도 가 :', sell_price, '////', \"시장가 매수 가능 수량 :\", unit)"
   ]
  },
  {
   "cell_type": "markdown",
   "metadata": {},
   "source": [
    "#### 3) 전량 시장가 매수"
   ]
  },
  {
   "cell_type": "code",
   "execution_count": null,
   "metadata": {},
   "outputs": [],
   "source": [
    "krw = bithumb.get_balance(\"ZIL\")[2]\n",
    "orderbook = pybithumb.get_orderbook(\"ZIL\")\n",
    "\n",
    "asks = orderbook['asks']\n",
    "sell_price = asks[0]['price']\n",
    "unit = krw/float(sell_price)\n",
    "\n",
    "order = bithumb.buy_market_order(\"ZIL\", unit)\n",
    "print(order)"
   ]
  },
  {
   "cell_type": "markdown",
   "metadata": {},
   "source": [
    "## 4. 매도"
   ]
  },
  {
   "cell_type": "markdown",
   "metadata": {},
   "source": [
    "#### 1) 지정가/시장가 매도"
   ]
  },
  {
   "cell_type": "code",
   "execution_count": 18,
   "metadata": {},
   "outputs": [
    {
     "name": "stdout",
     "output_type": "stream",
     "text": [
      "{'status': '5600', 'message': '주문 가능 금액은 19,684,000 KRW 이하 가능합니다.'}\n"
     ]
    }
   ],
   "source": [
    "order = bithumb.sell_limit_order(\"BTC\", 40000000, 1)\n",
    "#order = bithumb.sell_market_order(\"BTC\", 1)\n",
    "print(order)"
   ]
  },
  {
   "cell_type": "markdown",
   "metadata": {},
   "source": [
    "#### 2) 전량 지정가/시장가 매도"
   ]
  },
  {
   "cell_type": "code",
   "execution_count": null,
   "metadata": {},
   "outputs": [],
   "source": [
    "unit = bithumb.get_balance(\"BTC\")[0]\n",
    "print(unit)\n",
    "order = bithumb.sell_limit_order(\"BTC\", 40000000, unit)\n",
    "#order = bithumb.sell_market_order(\"BTC\", unit)\n",
    "print(order)"
   ]
  },
  {
   "cell_type": "markdown",
   "metadata": {},
   "source": [
    "## 5. 주문취소"
   ]
  },
  {
   "cell_type": "code",
   "execution_count": 23,
   "metadata": {},
   "outputs": [
    {
     "name": "stdout",
     "output_type": "stream",
     "text": [
      "True\n"
     ]
    }
   ],
   "source": [
    "cancel = bithumb.cancel_order(order)\n",
    "print(cancel)"
   ]
  }
 ],
 "metadata": {
  "kernelspec": {
   "display_name": "Python 3",
   "language": "python",
   "name": "python3"
  },
  "language_info": {
   "codemirror_mode": {
    "name": "ipython",
    "version": 3
   },
   "file_extension": ".py",
   "mimetype": "text/x-python",
   "name": "python",
   "nbconvert_exporter": "python",
   "pygments_lexer": "ipython3",
   "version": "3.7.3"
  }
 },
 "nbformat": 4,
 "nbformat_minor": 2
}
