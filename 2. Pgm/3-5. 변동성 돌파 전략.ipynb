{
 "cells": [
  {
   "cell_type": "markdown",
   "metadata": {},
   "source": [
    "## 1. Bithumb 클래스 생성"
   ]
  },
  {
   "cell_type": "code",
   "execution_count": null,
   "metadata": {},
   "outputs": [],
   "source": [
    "import pybithumb\n",
    "\n",
    "con_key = \"aaaaaaaaaaaaa\"\n",
    "sec_key = \"aaaaaaaaaaaaa\"\n",
    "\n",
    "bithumb = pybithumb.Bithumb(con_key, sec_key) # Bithumb 클래스 객체를 생성하는데 초기화자(__init__)로 두 키 값을 전달\n"
   ]
  },
  {
   "cell_type": "markdown",
   "metadata": {},
   "source": [
    "## 2. 잔고 조회"
   ]
  },
  {
   "cell_type": "code",
   "execution_count": 1,
   "metadata": {},
   "outputs": [
    {
     "ename": "NameError",
     "evalue": "name 'bithumb' is not defined",
     "output_type": "error",
     "traceback": [
      "\u001b[1;31m---------------------------------------------------------------------------\u001b[0m",
      "\u001b[1;31mNameError\u001b[0m                                 Traceback (most recent call last)",
      "\u001b[1;32m<ipython-input-1-e37a0db33835>\u001b[0m in \u001b[0;36m<module>\u001b[1;34m\u001b[0m\n\u001b[1;32m----> 1\u001b[1;33m \u001b[0mbalance\u001b[0m \u001b[1;33m=\u001b[0m \u001b[0mbithumb\u001b[0m\u001b[1;33m.\u001b[0m\u001b[0mget_balance\u001b[0m\u001b[1;33m(\u001b[0m\u001b[1;34m\"BTC\"\u001b[0m\u001b[1;33m)\u001b[0m\u001b[1;33m\u001b[0m\u001b[1;33m\u001b[0m\u001b[0m\n\u001b[0m\u001b[0;32m      2\u001b[0m \u001b[0mprint\u001b[0m\u001b[1;33m(\u001b[0m\u001b[0mbalance\u001b[0m\u001b[1;33m)\u001b[0m\u001b[1;33m\u001b[0m\u001b[1;33m\u001b[0m\u001b[0m\n\u001b[0;32m      3\u001b[0m \u001b[1;31m# tuple 로 출력\u001b[0m\u001b[1;33m\u001b[0m\u001b[1;33m\u001b[0m\u001b[1;33m\u001b[0m\u001b[0m\n\u001b[0;32m      4\u001b[0m  \u001b[1;31m# ex ) (4.533e-05, 0.0, 11000.0, 0.0)\u001b[0m\u001b[1;33m\u001b[0m\u001b[1;33m\u001b[0m\u001b[1;33m\u001b[0m\u001b[0m\n\u001b[0;32m      5\u001b[0m   \u001b[1;31m#      비트코인 총 잔고, 거래 중인 비트코인 수량, 보유중인 총 원화, 주문에 사용된 원화\u001b[0m\u001b[1;33m\u001b[0m\u001b[1;33m\u001b[0m\u001b[1;33m\u001b[0m\u001b[0m\n",
      "\u001b[1;31mNameError\u001b[0m: name 'bithumb' is not defined"
     ]
    }
   ],
   "source": [
    "balance = bithumb.get_balance(\"BTC\")\n",
    "print(balance)\n",
    "# tuple 로 출력\n",
    " # ex ) (4.533e-05, 0.0, 11000.0, 0.0)\n",
    "  #      비트코인 총 잔고, 거래 중인 비트코인 수량, 보유중인 총 원화, 주문에 사용된 원화\n",
    "print(format(balance[0], 'f')) \n",
    " # 지수승 -> 10진수로 표현됨"
   ]
  },
  {
   "cell_type": "code",
   "execution_count": null,
   "metadata": {},
   "outputs": [],
   "source": [
    "import pybithumb\n",
    "import time\n",
    "\n",
    "con_key = \n",
    "sec_key =\n",
    "\n",
    "bithumb = pybithumb.Bithumb(con_key, sec_key)\n",
    "\n",
    "for ticker in pybithumb.get_tickers():\n",
    "    balance = bithumb.get_balance(ticker)\n",
    "    print(ticker, \":\", balance)\n",
    "    time.sleep(0.1) #0.1초에 1개씩 모든 코인의 잔고를 화면에 출력\n",
    "\n"
   ]
  },
  {
   "cell_type": "markdown",
   "metadata": {},
   "source": [
    "## 3. 매수"
   ]
  },
  {
   "cell_type": "code",
   "execution_count": null,
   "metadata": {},
   "outputs": [],
   "source": [
    "import pybithumb\n",
    "import time\n",
    "\n",
    "con_key = \n",
    "sec_key =\n",
    "\n",
    "bithumb = pybithumb.Bithumb(con_key, sec_key)\n",
    "\n",
    "order = bithumb.buy_limit_order(\"BTC\", 3900000, 0.001) # 지정가 매수(티커, 가격, 수량)\n",
    "# order = bithumb.buy_market_order(\"BTC\", 1) # 시장가 매수(티커, 수량)\n",
    "print(order)\n",
    "\n",
    "# 결과) ('bid', 'BTC', '1544378327') 주문 종류, 티커, 주문 번호가 튜플로 반환"
   ]
  }
 ],
 "metadata": {
  "kernelspec": {
   "display_name": "Python 3",
   "language": "python",
   "name": "python3"
  },
  "language_info": {
   "codemirror_mode": {
    "name": "ipython",
    "version": 3
   },
   "file_extension": ".py",
   "mimetype": "text/x-python",
   "name": "python",
   "nbconvert_exporter": "python",
   "pygments_lexer": "ipython3",
   "version": "3.7.3"
  }
 },
 "nbformat": 4,
 "nbformat_minor": 2
}
