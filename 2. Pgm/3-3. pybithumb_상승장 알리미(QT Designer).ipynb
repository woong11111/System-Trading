{
 "cells": [
  {
   "cell_type": "markdown",
   "metadata": {},
   "source": [
    "## 1. QT Designer 를 이용한 UI 활용하기\n",
    "\n",
    " - QT Designer 내 Table Widget 을 활용하여 Long_or_Short_Alarm.ui 파일로 저장한다."
   ]
  },
  {
   "cell_type": "markdown",
   "metadata": {},
   "source": [
    "### 1) UI 불러오기"
   ]
  },
  {
   "cell_type": "code",
   "execution_count": 1,
   "metadata": {},
   "outputs": [
    {
     "data": {
      "text/plain": [
       "0"
      ]
     },
     "execution_count": 1,
     "metadata": {},
     "output_type": "execute_result"
    }
   ],
   "source": [
    "import sys\n",
    "from PyQt5.QtWidgets import *\n",
    "from PyQt5 import uic\n",
    "\n",
    "form_class = uic.loadUiType(\"Long_or_Short_Alarm.ui\")[0] # loadUiType() 함수를 호출해서 QT Designer 로 생성한 ui 파일 로드\n",
    "\n",
    "class MyWindow(QMainWindow, form_class) : # QMainWindow 와 form_class 를 상속받아 MyWindow 클래스를 정의\n",
    "    def __init__(self):\n",
    "        super().__init__()\n",
    "        self.setupUi(self)\n",
    "        \n",
    "app = QApplication(sys.argv)\n",
    "win = MyWindow()\n",
    "win.show()\n",
    "app.exec_()"
   ]
  },
  {
   "cell_type": "markdown",
   "metadata": {},
   "source": [
    "### 2) 타이머 만들기"
   ]
  },
  {
   "cell_type": "code",
   "execution_count": 1,
   "metadata": {},
   "outputs": [
    {
     "data": {
      "text/plain": [
       "0"
      ]
     },
     "execution_count": 1,
     "metadata": {},
     "output_type": "execute_result"
    }
   ],
   "source": [
    "import sys\n",
    "from PyQt5.QtWidgets import *\n",
    "from PyQt5 import uic\n",
    "from PyQt5.QtCore import *\n",
    "import pybithumb\n",
    "\n",
    "# tickers = pybithumb.get_tickers() # 모든 코인 조회\n",
    "tickers = ['ZIL', 'BTC', 'EOS', 'BSV']\n",
    "\n",
    "form_class = uic.loadUiType(\"Long_or_short_Alarm.ui\")[0]\n",
    "\n",
    "class MyWindow(QMainWindow, form_class) :\n",
    "    def __init__(self):\n",
    "        super().__init__()\n",
    "        self.setupUi(self)\n",
    "        \n",
    "        timer = QTimer(self)\n",
    "        timer.start(5000) # 5초에 한번\n",
    "        timer.timeout.connect(self.timeout)\n",
    "        \n",
    "    \n",
    "    def get_market_infos(self, ticker) :\n",
    "        df = pybithumb.get_ohlcv(ticker)\n",
    "        ma5 = df['close'].rolling(window=5).mean()\n",
    "        last_ma5 = ma5[-2]\n",
    "        price = pybithumb.get_current_price(ticker)\n",
    "        \n",
    "        state = None\n",
    "        if price > last_ma5 :\n",
    "            state = \"상승장\"\n",
    "        else :\n",
    "            state = \"하락장\"\n",
    "        return price, last_ma5, state\n",
    "    \n",
    "    def timeout(self):\n",
    "        for i, ticker in enumerate(tickers):\n",
    "            item = QTableWidgetItem(ticker)\n",
    "            self.tableWidget.setItem(i, 0, item)\n",
    "            \n",
    "            price, last_ma5, state = self.get_market_infos(ticker)\n",
    "            self.tableWidget.setItem(i, 1, QTableWidgetItem(str(price)))\n",
    "            self.tableWidget.setItem(i, 2, QTableWidgetItem(str(last_ma5)))\n",
    "            self.tableWidget.setItem(i, 3, QTableWidgetItem(str(state)))\n",
    "            \n",
    "app = QApplication(sys.argv)\n",
    "window = MyWindow()\n",
    "window.show()\n",
    "app.exec_()"
   ]
  },
  {
   "cell_type": "code",
   "execution_count": 3,
   "metadata": {},
   "outputs": [
    {
     "data": {
      "image/png": "[encoded data removed]",
      "text/plain": [
       "<IPython.core.display.Image object>"
      ]
     },
     "execution_count": 3,
     "metadata": {},
     "output_type": "execute_result"
    }
   ],
   "source": [
    "from IPython.display import Image\n",
    "Image(\"../1. Data/Timer.png\")"
   ]
  },
  {
   "cell_type": "code",
   "execution_count": null,
   "metadata": {},
   "outputs": [],
   "source": []
  }
 ],
 "metadata": {
  "kernelspec": {
   "display_name": "Python 3",
   "language": "python",
   "name": "python3"
  },
  "language_info": {
   "codemirror_mode": {
    "name": "ipython",
    "version": 3
   },
   "file_extension": ".py",
   "mimetype": "text/x-python",
   "name": "python",
   "nbconvert_exporter": "python",
   "pygments_lexer": "ipython3",
   "version": "3.7.3"
  }
 },
 "nbformat": 4,
 "nbformat_minor": 2
}
