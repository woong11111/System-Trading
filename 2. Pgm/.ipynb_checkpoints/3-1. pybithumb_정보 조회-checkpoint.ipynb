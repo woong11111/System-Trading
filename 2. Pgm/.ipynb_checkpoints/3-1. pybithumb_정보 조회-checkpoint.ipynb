{
 "cells": [
  {
   "cell_type": "markdown",
   "metadata": {},
   "source": [
    "## 1. pybithumb 모듈\n",
    "\n",
    " - 설치 : pip install pybithumb (pystock 저자 지음)"
   ]
  },
  {
   "cell_type": "markdown",
   "metadata": {},
   "source": [
    "## 2. 가상화폐 티커 목록 얻기"
   ]
  },
  {
   "cell_type": "code",
   "execution_count": 1,
   "metadata": {},
   "outputs": [
    {
     "name": "stdout",
     "output_type": "stream",
     "text": [
      "['BTC', 'ETH', 'DASH', 'LTC', 'ETC', 'XRP', 'BCH', 'XMR', 'ZEC', 'QTUM', 'BTG', 'EOS', 'ICX', 'VET', 'TRX', 'ELF', 'MITH', 'MCO', 'OMG', 'KNC', 'GNT', 'ZIL', 'ETHOS', 'PAY', 'WAX', 'POWR', 'LRC', 'GTO', 'STEEM', 'STRAT', 'ZRX', 'REP', 'AE', 'XEM', 'SNT', 'ADA', 'PPT', 'CTXC', 'CMT', 'THETA', 'WTC', 'ITC', 'TRUE', 'ABT', 'RNT', 'PLY', 'WAVES', 'LINK', 'ENJ', 'PST', 'SALT', 'RDN', 'LOOM', 'PIVX', 'INS', 'BCD', 'BZNT', 'XLM', 'OCN', 'BSV', 'TMTG', 'BAT', 'WET', 'XVG', 'IOST', 'POLY', 'HC', 'ROM', 'AMO', 'ETZ', 'ARN', 'APIS', 'MTL', 'DACC', 'DAC', 'BHP', 'BTT', 'HDAC', 'NPXS', 'AUTO', 'GXC', 'ORBS', 'VALOR', 'CON', 'ANKR', 'MIX']\n"
     ]
    }
   ],
   "source": [
    "import pybithumb\n",
    "\n",
    "tickers = pybithumb.get_tickers()\n",
    "print(tickers)"
   ]
  },
  {
   "cell_type": "code",
   "execution_count": 2,
   "metadata": {},
   "outputs": [
    {
     "name": "stdout",
     "output_type": "stream",
     "text": [
      "86\n"
     ]
    }
   ],
   "source": [
    "print(len(tickers)) # 빗썸 상장 코인 수"
   ]
  },
  {
   "cell_type": "markdown",
   "metadata": {},
   "source": [
    "## 3. 현재가 조회"
   ]
  },
  {
   "cell_type": "markdown",
   "metadata": {},
   "source": [
    "### 1) 정적 조회"
   ]
  },
  {
   "cell_type": "code",
   "execution_count": 3,
   "metadata": {},
   "outputs": [
    {
     "name": "stdout",
     "output_type": "stream",
     "text": [
      "26.5\n"
     ]
    }
   ],
   "source": [
    "import pybithumb\n",
    "\n",
    "price = pybithumb.get_current_price(\"ZIL\")\n",
    "print(price)"
   ]
  },
  {
   "cell_type": "markdown",
   "metadata": {},
   "source": [
    "### 2) 동적 조회"
   ]
  },
  {
   "cell_type": "code",
   "execution_count": 4,
   "metadata": {},
   "outputs": [
    {
     "name": "stdout",
     "output_type": "stream",
     "text": [
      "26.7\n",
      "26.7\n",
      "26.7\n",
      "26.7\n",
      "26.7\n",
      "26.7\n"
     ]
    },
    {
     "ename": "KeyboardInterrupt",
     "evalue": "",
     "output_type": "error",
     "traceback": [
      "\u001b[1;31m---------------------------------------------------------------------------\u001b[0m",
      "\u001b[1;31mKeyboardInterrupt\u001b[0m                         Traceback (most recent call last)",
      "\u001b[1;32m<ipython-input-4-087e04bd6365>\u001b[0m in \u001b[0;36m<module>\u001b[1;34m\u001b[0m\n\u001b[0;32m      5\u001b[0m     \u001b[0mprice\u001b[0m \u001b[1;33m=\u001b[0m \u001b[0mpybithumb\u001b[0m\u001b[1;33m.\u001b[0m\u001b[0mget_current_price\u001b[0m\u001b[1;33m(\u001b[0m\u001b[1;34m\"ZIL\"\u001b[0m\u001b[1;33m)\u001b[0m\u001b[1;33m\u001b[0m\u001b[1;33m\u001b[0m\u001b[0m\n\u001b[0;32m      6\u001b[0m     \u001b[0mprint\u001b[0m\u001b[1;33m(\u001b[0m\u001b[0mprice\u001b[0m\u001b[1;33m)\u001b[0m\u001b[1;33m\u001b[0m\u001b[1;33m\u001b[0m\u001b[0m\n\u001b[1;32m----> 7\u001b[1;33m     \u001b[0mtime\u001b[0m\u001b[1;33m.\u001b[0m\u001b[0msleep\u001b[0m\u001b[1;33m(\u001b[0m\u001b[1;36m1\u001b[0m\u001b[1;33m)\u001b[0m \u001b[1;31m# 1초에 한번 조회, 빗썸 공개 API 의 경우 초당 20회 호출 가능하며, 그 이상 호출 시, 차단\u001b[0m\u001b[1;33m\u001b[0m\u001b[1;33m\u001b[0m\u001b[0m\n\u001b[0m",
      "\u001b[1;31mKeyboardInterrupt\u001b[0m: "
     ]
    }
   ],
   "source": [
    "import pybithumb\n",
    "import time\n",
    "\n",
    "while True : # while 반복문 - 무한 loop\n",
    "    price = pybithumb.get_current_price(\"ZIL\")\n",
    "    print(price)\n",
    "    time.sleep(1) # 1초에 한번 조회, 빗썸 공개 API 의 경우 초당 20회 호출 가능하며, 그 이상 호출 시, 차단"
   ]
  },
  {
   "cell_type": "markdown",
   "metadata": {},
   "source": [
    "### 3) 빗썸 상장 모든 코인 가격 조회"
   ]
  },
  {
   "cell_type": "code",
   "execution_count": 5,
   "metadata": {},
   "outputs": [
    {
     "name": "stdout",
     "output_type": "stream",
     "text": [
      "BTC 9611000.0\n",
      "ETH 302200.0\n",
      "DASH 196800.0\n",
      "LTC 128800.0\n",
      "ETC 10050.0\n",
      "XRP 495.0\n",
      "BCH 488600.0\n",
      "XMR 103400.0\n",
      "ZEC 102600.0\n",
      "QTUM 3919.0\n",
      "BTG 31700.0\n",
      "EOS 7890.0\n",
      "ICX 450.0\n",
      "VET 9.48\n",
      "TRX 39.3\n",
      "ELF 228.0\n",
      "MITH 65.0\n",
      "MCO 6335.0\n",
      "OMG 2568.0\n",
      "KNC 297.0\n",
      "GNT 106.0\n",
      "ZIL 26.8\n",
      "ETHOS 245.0\n",
      "PAY 357.0\n",
      "WAX 89.6\n",
      "POWR 145.0\n",
      "LRC 104.0\n",
      "GTO 44.4\n",
      "STEEM 536.0\n",
      "STRAT 1230.0\n",
      "ZRX 392.0\n",
      "REP 28040.0\n",
      "AE 727.0\n",
      "XEM 168.0\n",
      "SNT 34.9\n",
      "ADA 117.0\n",
      "PPT 2476.0\n",
      "CTXC 367.0\n",
      "CMT 44.0\n",
      "THETA 145.0\n",
      "WTC 2418.0\n",
      "ITC 412.0\n",
      "TRUE 991.0\n",
      "ABT 480.0\n",
      "RNT 66.5\n",
      "PLY 24.7\n",
      "WAVES 3134.0\n",
      "LINK 1334.0\n",
      "ENJ 164.0\n",
      "PST 166.0\n",
      "SALT 286.0\n",
      "RDN 1246.0\n",
      "LOOM 182.0\n",
      "PIVX 2350.0\n",
      "INS 558.0\n",
      "BCD 3611.0\n",
      "BZNT 24.1\n",
      "XLM 165.0\n",
      "OCN 5.47\n",
      "BSV 258600.0\n",
      "TMTG 3.72\n",
      "BAT 419.0\n",
      "WET 25.3\n",
      "XVG 24.8\n",
      "IOST 19.3\n",
      "POLY 122.0\n",
      "HC 2016.0\n",
      "ROM 0.06\n",
      "AMO 0.73\n",
      "ETZ 270.0\n",
      "ARN 733.0\n",
      "APIS 2.29\n",
      "MTL 3433.0\n",
      "DACC 0.19\n",
      "DAC 7.33\n",
      "BHP 1698.0\n",
      "BTT 2.21\n",
      "HDAC 44.4\n",
      "NPXS 1.25\n",
      "AUTO 2.29\n",
      "GXC 1690.0\n",
      "ORBS 43.0\n",
      "VALOR 3270.0\n",
      "CON 25.6\n",
      "ANKR 9.07\n",
      "MIX 80.1\n"
     ]
    }
   ],
   "source": [
    "import pybithumb\n",
    "import time\n",
    "\n",
    "tickers = pybithumb.get_tickers()\n",
    "for ticker in tickers :\n",
    "    price = pybithumb.get_current_price(ticker)\n",
    "    print(ticker, price)\n",
    "    time.sleep(0.1)"
   ]
  },
  {
   "cell_type": "markdown",
   "metadata": {},
   "source": [
    "### 4) 저가/고가/현재가/거래량 조회"
   ]
  },
  {
   "cell_type": "code",
   "execution_count": 13,
   "metadata": {},
   "outputs": [
    {
     "name": "stdout",
     "output_type": "stream",
     "text": [
      "(25.9, 28.1, 26.9827, 63280523.52860292)\n",
      "24시간 저가 : 25.9 KRW\n",
      "24시간 고가 : 28.1 KRW\n",
      "현재가 : : 26.9827 KRW\n",
      "24시간 거래량 : 63280523.52860292 개\n"
     ]
    }
   ],
   "source": [
    "import pybithumb\n",
    "\n",
    "detail = pybithumb.get_market_detail(\"ZIL\")\n",
    "print(detail) # 24시간 저가, 24시간 고가, 현재가, 24시간 거래량\n",
    "\n",
    "print(\"24시간 저가 :\", detail[0], \"KRW\")\n",
    "print(\"24시간 고가 :\", detail[1], \"KRW\")\n",
    "print(\"현재가 : :\", detail[2], \"KRW\")\n",
    "print(\"24시간 거래량 :\", detail[3], \"개\")"
   ]
  },
  {
   "cell_type": "markdown",
   "metadata": {},
   "source": [
    "### 5) 호가 불러오기"
   ]
  },
  {
   "cell_type": "code",
   "execution_count": 14,
   "metadata": {},
   "outputs": [
    {
     "name": "stdout",
     "output_type": "stream",
     "text": [
      "{'timestamp': '1559787134300', 'payment_currency': 'KRW', 'order_currency': 'BTC', 'bids': [{'quantity': 0.3218, 'price': 9565000.0}, {'quantity': 2.759, 'price': 9564000.0}, {'quantity': 1.204, 'price': 9563000.0}, {'quantity': 0.0961, 'price': 9562000.0}, {'quantity': 0.406, 'price': 9561000.0}], 'asks': [{'quantity': 13.8857, 'price': 9570000.0}, {'quantity': 0.409, 'price': 9573000.0}, {'quantity': 8.119, 'price': 9574000.0}, {'quantity': 0.403, 'price': 9576000.0}, {'quantity': 0.385, 'price': 9578000.0}]}\n",
      "timestamp\n",
      "payment_currency\n",
      "order_currency\n",
      "bids\n",
      "asks\n"
     ]
    }
   ],
   "source": [
    "import pybithumb\n",
    "\n",
    "orderbook = pybithumb.get_orderbook(\"BTC\")\n",
    "print(orderbook)\n",
    "\n",
    "for k in orderbook:\n",
    "    print(k)\n",
    "    "
   ]
  },
  {
   "cell_type": "code",
   "execution_count": 43,
   "metadata": {},
   "outputs": [
    {
     "name": "stdout",
     "output_type": "stream",
     "text": [
      "매도호가 : 27.7 매도잔량 : 114255.6104\n",
      "매도호가 : 27.6 매도잔량 : 119776.3424\n",
      "매도호가 : 27.5 매도잔량 : 188954.8498\n",
      "매도호가 : 27.4 매도잔량 : 466860.1502\n",
      "매도호가 : 27.3 매도잔량 : 201399.0271956\n",
      "----------------------------------------\n",
      "매수호가 : 27.2 매수잔량 : 225300.2121\n",
      "매수호가 : 27.1 매수잔량 : 1726014.3315\n",
      "매수호가 : 27.0 매수잔량 : 324.33\n",
      "매수호가 : 26.9 매수잔량 : 108.1937\n",
      "매수호가 : 26.8 매수잔량 : 125.2884\n"
     ]
    }
   ],
   "source": [
    "import pybithumb\n",
    "\n",
    "orderbook = pybithumb.get_orderbook(\"ZIL\")\n",
    "bids = orderbook['bids'] \n",
    "asks = orderbook['asks']\n",
    "\n",
    "#for ask in asks :\n",
    "#   price = ask['price']\n",
    "#   quant = ask['quantity']\n",
    "#   print(\"매도호가 :\", price, \"매도잔량 :\", quant)\n",
    "## -> 매도호가 오름차순 정렬되어, 내림차순으로 변경 필요 (UI 지향)\n",
    "\n",
    "for i in range(len(asks)) :\n",
    "    print(\"매도호가 :\", asks[len(asks)-i-1]['price'], \"매도잔량 :\", asks[len(asks)-i-1]['quantity'])\n",
    "\n",
    "print('-'*40)    \n",
    "    \n",
    "for bid in bids :\n",
    "    price = bid['price']\n",
    "    quant = bid['quantity']\n",
    "    print(\"매수호가 :\", price, \"매수잔량 :\", quant)"
   ]
  },
  {
   "cell_type": "markdown",
   "metadata": {},
   "source": [
    "### 6) 여러 코인 가격 정보 한번에 조회"
   ]
  },
  {
   "cell_type": "code",
   "execution_count": 46,
   "metadata": {},
   "outputs": [
    {
     "name": "stdout",
     "output_type": "stream",
     "text": [
      "BTC {'opening_price': '9635000', 'closing_price': '9575000', 'min_price': '9329000', 'max_price': '9777000', 'average_price': '9567298.5472', 'units_traded': '4616.82192516', 'volume_1day': '4616.82192516', 'volume_7day': '37558.46240178', 'buy_price': '9569000', 'sell_price': '9575000', '24H_fluctate': '-60000', '24H_fluctate_rate': '-0.62'}\n",
      "ETH {'opening_price': '298500', 'closing_price': '302200', 'min_price': '292500', 'max_price': '306500', 'average_price': '300268.1364', 'units_traded': '55329.70761059', 'volume_1day': '55329.70761059', 'volume_7day': '716536.538877657721378819', 'buy_price': '302000', 'sell_price': '302200', '24H_fluctate': '3700', '24H_fluctate_rate': '1.23'}\n",
      "DASH {'opening_price': '193900', 'closing_price': '194500', 'min_price': '182200', 'max_price': '198000', 'average_price': '192274.9053', 'units_traded': '991949.73757301', 'volume_1day': '991949.73757301', 'volume_7day': '17073282.11824775', 'buy_price': '194400', 'sell_price': '194500', '24H_fluctate': '600', '24H_fluctate_rate': '0.30'}\n",
      "LTC {'opening_price': '126500', 'closing_price': '128000', 'min_price': '123300', 'max_price': '129800', 'average_price': '126625.8076', 'units_traded': '16138.25627551', 'volume_1day': '16138.25627551', 'volume_7day': '177654.68192963', 'buy_price': '128200', 'sell_price': '128400', '24H_fluctate': '1500', '24H_fluctate_rate': '1.18'}\n",
      "ETC {'opening_price': '10120', 'closing_price': '9960', 'min_price': '9565', 'max_price': '10250', 'average_price': '9937.742', 'units_traded': '350768.10136596', 'volume_1day': '350768.10136596', 'volume_7day': '3591723.801906433473292213', 'buy_price': '9950', 'sell_price': '9960', '24H_fluctate': '-160', '24H_fluctate_rate': '-1.58'}\n",
      "XRP {'opening_price': '493', 'closing_price': '491', 'min_price': '477', 'max_price': '503', 'average_price': '490.712', 'units_traded': '78589806.52299377', 'volume_1day': '78589806.52299377', 'volume_7day': '920780020.2676552', 'buy_price': '491', 'sell_price': '492', '24H_fluctate': '-2', '24H_fluctate_rate': '-0.40'}\n",
      "BCH {'opening_price': '482200', 'closing_price': '488400', 'min_price': '466300', 'max_price': '512500', 'average_price': '488935.8399', 'units_traded': '61872.35136716', 'volume_1day': '61872.35136716', 'volume_7day': '357036.28075757', 'buy_price': '488200', 'sell_price': '488800', '24H_fluctate': '6200', '24H_fluctate_rate': '1.28'}\n",
      "XMR {'opening_price': '105000', 'closing_price': '104000', 'min_price': '100700', 'max_price': '105700', 'average_price': '103836.9907', 'units_traded': '4794084.40694916', 'volume_1day': '4794084.40694916', 'volume_7day': '17357363.315529832095', 'buy_price': '103700', 'sell_price': '104100', '24H_fluctate': '-1000', '24H_fluctate_rate': '-0.95'}\n",
      "ZEC {'opening_price': '99850', 'closing_price': '102800', 'min_price': '98100', 'max_price': '110000', 'average_price': '101316.6666', 'units_traded': '1670.34889218', 'volume_1day': '1670.34889218', 'volume_7day': '39859.02715284', 'buy_price': '102800', 'sell_price': '103800', '24H_fluctate': '2950', '24H_fluctate_rate': '2.95'}\n",
      "QTUM {'opening_price': '3801', 'closing_price': '3890', 'min_price': '3703', 'max_price': '3944', 'average_price': '3829.1184', 'units_traded': '227727.43349356', 'volume_1day': '227727.43349356', 'volume_7day': '6188663.61922255', 'buy_price': '3888', 'sell_price': '3897', '24H_fluctate': '89', '24H_fluctate_rate': '2.34'}\n",
      "BTG {'opening_price': '31790', 'closing_price': '31770', 'min_price': '30890', 'max_price': '32880', 'average_price': '31909.0684', 'units_traded': '17263.24048985', 'volume_1day': '17263.24048985', 'volume_7day': '420125.3525408', 'buy_price': '31760', 'sell_price': '32020', '24H_fluctate': '-20', '24H_fluctate_rate': '-0.06'}\n",
      "EOS {'opening_price': '7805', 'closing_price': '7860', 'min_price': '7580', 'max_price': '8055', 'average_price': '7821.7596', 'units_traded': '3862024.16827511', 'volume_1day': '3862024.16827511', 'volume_7day': '49150023.8866955', 'buy_price': '7855', 'sell_price': '7860', '24H_fluctate': '55', '24H_fluctate_rate': '0.70'}\n",
      "ICX {'opening_price': '454', 'closing_price': '446', 'min_price': '432', 'max_price': '459', 'average_price': '447.5953', 'units_traded': '630514.83357478', 'volume_1day': '630514.83357478', 'volume_7day': '11533799.124497569031334887', 'buy_price': '446', 'sell_price': '450', '24H_fluctate': '-8', '24H_fluctate_rate': '-1.76'}\n",
      "VET {'opening_price': '9.34', 'closing_price': '9.63', 'min_price': '9.3', 'max_price': '9.75', 'average_price': '9.4998', 'units_traded': '28574447.06525379', 'volume_1day': '28574447.06525379', 'volume_7day': '1135708544.17083449275401885', 'buy_price': '9.63', 'sell_price': '9.73', '24H_fluctate': '0.29', '24H_fluctate_rate': '3.10'}\n",
      "TRX {'opening_price': '39.8', 'closing_price': '39.1', 'min_price': '38', 'max_price': '40.5', 'average_price': '39.3073', 'units_traded': '118680830.9017215', 'volume_1day': '118680830.9017215', 'volume_7day': '2384544037.20052672', 'buy_price': '39', 'sell_price': '39.1', '24H_fluctate': '-0.7', '24H_fluctate_rate': '-1.75'}\n",
      "ELF {'opening_price': '232', 'closing_price': '231', 'min_price': '222', 'max_price': '237', 'average_price': '229.705', 'units_traded': '793508.15707498', 'volume_1day': '793508.15707498', 'volume_7day': '11061239.77068217997133469', 'buy_price': '229', 'sell_price': '230', '24H_fluctate': '-1', '24H_fluctate_rate': '-0.43'}\n",
      "MITH {'opening_price': '64', 'closing_price': '64.9', 'min_price': '62.8', 'max_price': '65', 'average_price': '64.0551', 'units_traded': '2239616.96542466', 'volume_1day': '2239616.96542466', 'volume_7day': '61812489.243737434105616786', 'buy_price': '64.7', 'sell_price': '64.9', '24H_fluctate': '0.9', '24H_fluctate_rate': '1.40'}\n",
      "MCO {'opening_price': '6270', 'closing_price': '6380', 'min_price': '6150', 'max_price': '6600', 'average_price': '6327.3076', 'units_traded': '39089.35472167', 'volume_1day': '39089.35472167', 'volume_7day': '663177.7824824', 'buy_price': '6380', 'sell_price': '6385', '24H_fluctate': '110', '24H_fluctate_rate': '1.75'}\n",
      "OMG {'opening_price': '2515', 'closing_price': '2570', 'min_price': '2458', 'max_price': '2599', 'average_price': '2520.9084', 'units_traded': '61973.57285759', 'volume_1day': '61973.57285759', 'volume_7day': '1375023.341001981485514757', 'buy_price': '2539', 'sell_price': '2564', '24H_fluctate': '55', '24H_fluctate_rate': '2.18'}\n",
      "KNC {'opening_price': '295', 'closing_price': '298', 'min_price': '287', 'max_price': '303', 'average_price': '295.6771', 'units_traded': '908495.55007865', 'volume_1day': '908495.55007865', 'volume_7day': '10139944.131323320169335757', 'buy_price': '298', 'sell_price': '299', '24H_fluctate': '3', '24H_fluctate_rate': '1.01'}\n",
      "GNT {'opening_price': '105', 'closing_price': '107', 'min_price': '101', 'max_price': '109', 'average_price': '105.3446', 'units_traded': '863192.46412839', 'volume_1day': '863192.46412839', 'volume_7day': '21354191.656541925961775876', 'buy_price': '106', 'sell_price': '107', '24H_fluctate': '2', '24H_fluctate_rate': '1.90'}\n",
      "ZIL {'opening_price': '27.3', 'closing_price': '27', 'min_price': '25.9', 'max_price': '28.1', 'average_price': '26.9906', 'units_traded': '61170081.38022549', 'volume_1day': '61170081.38022549', 'volume_7day': '668098940.401152514047', 'buy_price': '26.9', 'sell_price': '27', '24H_fluctate': '-0.3', '24H_fluctate_rate': '-1.09'}\n",
      "ETHOS {'opening_price': '251', 'closing_price': '256', 'min_price': '232', 'max_price': '259', 'average_price': '242.5409', 'units_traded': '1013961.72637328', 'volume_1day': '1013961.72637328', 'volume_7day': '17401029.06775264', 'buy_price': '253', 'sell_price': '256', '24H_fluctate': '5', '24H_fluctate_rate': '1.99'}\n",
      "PAY {'opening_price': '359', 'closing_price': '360', 'min_price': '342', 'max_price': '364', 'average_price': '355.6209', 'units_traded': '808684.72176405', 'volume_1day': '808684.72176405', 'volume_7day': '14504264.088416134283008078', 'buy_price': '359', 'sell_price': '360', '24H_fluctate': '1', '24H_fluctate_rate': '0.27'}\n",
      "WAX {'opening_price': '89.3', 'closing_price': '89.6', 'min_price': '87.1', 'max_price': '91.5', 'average_price': '89.119', 'units_traded': '4202457.77152955', 'volume_1day': '4202457.77152955', 'volume_7day': '122590899.79851747', 'buy_price': '89.3', 'sell_price': '89.6', '24H_fluctate': '0.3', '24H_fluctate_rate': '0.33'}\n",
      "POWR {'opening_price': '145', 'closing_price': '146', 'min_price': '140', 'max_price': '150', 'average_price': '144.5376', 'units_traded': '1349068.99484735', 'volume_1day': '1349068.99484735', 'volume_7day': '26691697.00218272', 'buy_price': '146', 'sell_price': '147', '24H_fluctate': '1', '24H_fluctate_rate': '0.68'}\n",
      "LRC {'opening_price': '102', 'closing_price': '104', 'min_price': '99.7', 'max_price': '112', 'average_price': '104.337', 'units_traded': '4545949.58834992', 'volume_1day': '4545949.58834992', 'volume_7day': '111546332.851805512783937373', 'buy_price': '103', 'sell_price': '104', '24H_fluctate': '2', '24H_fluctate_rate': '1.96'}\n",
      "GTO {'opening_price': '43.4', 'closing_price': '44.4', 'min_price': '42.8', 'max_price': '46.3', 'average_price': '44.0236', 'units_traded': '2002454.34799796', 'volume_1day': '2002454.34799796', 'volume_7day': '117930250.95108398', 'buy_price': '44.1', 'sell_price': '44.3', '24H_fluctate': '1', '24H_fluctate_rate': '2.30'}\n",
      "STEEM {'opening_price': '530', 'closing_price': '534', 'min_price': '515', 'max_price': '540', 'average_price': '528.1065', 'units_traded': '369872.87233528', 'volume_1day': '369872.87233528', 'volume_7day': '15899672.57772124', 'buy_price': '528', 'sell_price': '534', '24H_fluctate': '4', '24H_fluctate_rate': '0.75'}\n",
      "STRAT {'opening_price': '1218', 'closing_price': '1231', 'min_price': '1174', 'max_price': '1249', 'average_price': '1219.0552', 'units_traded': '104548.91962748', 'volume_1day': '104548.91962748', 'volume_7day': '2953193.7692232', 'buy_price': '1230', 'sell_price': '1231', '24H_fluctate': '13', '24H_fluctate_rate': '1.06'}\n",
      "ZRX {'opening_price': '379', 'closing_price': '394', 'min_price': '371', 'max_price': '394', 'average_price': '381.4574', 'units_traded': '199193.96954588', 'volume_1day': '199193.96954588', 'volume_7day': '4194330.240453615536540423', 'buy_price': '392', 'sell_price': '394', '24H_fluctate': '15', '24H_fluctate_rate': '3.95'}\n",
      "REP {'opening_price': '28010', 'closing_price': '28340', 'min_price': '27430', 'max_price': '28900', 'average_price': '28220.6589', 'units_traded': '18156.44601636', 'volume_1day': '18156.44601636', 'volume_7day': '488698.236953306684122478', 'buy_price': '28140', 'sell_price': '28340', '24H_fluctate': '330', '24H_fluctate_rate': '1.17'}\n",
      "AE {'opening_price': '711', 'closing_price': '728', 'min_price': '690', 'max_price': '800', 'average_price': '734.5099', 'units_traded': '725586.56891823', 'volume_1day': '725586.56891823', 'volume_7day': '12927220.391331300211634087', 'buy_price': '722', 'sell_price': '727', '24H_fluctate': '17', '24H_fluctate_rate': '2.39'}\n",
      "XEM {'opening_price': '146', 'closing_price': '167', 'min_price': '145', 'max_price': '189', 'average_price': '172.2538', 'units_traded': '22406940.20199485', 'volume_1day': '22406940.20199485', 'volume_7day': '258564473.09853314', 'buy_price': '166', 'sell_price': '167', '24H_fluctate': '21', '24H_fluctate_rate': '14.38'}\n",
      "SNT {'opening_price': '35', 'closing_price': '35.4', 'min_price': '34.1', 'max_price': '35.7', 'average_price': '34.8021', 'units_traded': '4576378.10457046', 'volume_1day': '4576378.10457046', 'volume_7day': '138726053.348265883492812404', 'buy_price': '35.1', 'sell_price': '35.3', '24H_fluctate': '0.4', '24H_fluctate_rate': '1.14'}\n",
      "ADA {'opening_price': '118', 'closing_price': '118', 'min_price': '115', 'max_price': '121', 'average_price': '118.5966', 'units_traded': '8389003.02782905', 'volume_1day': '8389003.02782905', 'volume_7day': '157004976.98204934', 'buy_price': '117', 'sell_price': '118', '24H_fluctate': '0', '24H_fluctate_rate': '0.00'}\n",
      "PPT {'opening_price': '2425', 'closing_price': '2496', 'min_price': '2360', 'max_price': '2590', 'average_price': '2456.3145', 'units_traded': '45259.71356787', 'volume_1day': '45259.71356787', 'volume_7day': '1059770.20255462', 'buy_price': '2497', 'sell_price': '2517', '24H_fluctate': '71', '24H_fluctate_rate': '2.92'}\n",
      "CTXC {'opening_price': '372', 'closing_price': '368', 'min_price': '352', 'max_price': '375', 'average_price': '365.097', 'units_traded': '879042.0679559', 'volume_1day': '879042.0679559', 'volume_7day': '18069646.750861232340351562', 'buy_price': '365', 'sell_price': '368', '24H_fluctate': '-4', '24H_fluctate_rate': '-1.07'}\n",
      "CMT {'opening_price': '42.4', 'closing_price': '43.7', 'min_price': '42', 'max_price': '44.1', 'average_price': '43.007', 'units_traded': '1834316.18902405', 'volume_1day': '1834316.18902405', 'volume_7day': '38756439.221803795496443668', 'buy_price': '43.7', 'sell_price': '43.9', '24H_fluctate': '1.3', '24H_fluctate_rate': '3.06'}\n",
      "THETA {'opening_price': '137', 'closing_price': '145', 'min_price': '135', 'max_price': '149', 'average_price': '142.6992', 'units_traded': '2463912.82753004', 'volume_1day': '2463912.82753004', 'volume_7day': '37175614.669961387782159647', 'buy_price': '144', 'sell_price': '145', '24H_fluctate': '8', '24H_fluctate_rate': '5.83'}\n",
      "WTC {'opening_price': '2382', 'closing_price': '2436', 'min_price': '2303', 'max_price': '2445', 'average_price': '2391.2436', 'units_traded': '75960.32880945', 'volume_1day': '75960.32880945', 'volume_7day': '2202651.110755215769224047', 'buy_price': '2420', 'sell_price': '2428', '24H_fluctate': '54', '24H_fluctate_rate': '2.26'}\n",
      "ITC {'opening_price': '298', 'closing_price': '421', 'min_price': '298', 'max_price': '437', 'average_price': '371.9502', 'units_traded': '31569823.11037406', 'volume_1day': '31569823.11037406', 'volume_7day': '73215706.047255826079088806', 'buy_price': '420', 'sell_price': '421', '24H_fluctate': '123', '24H_fluctate_rate': '41.27'}\n",
      "TRUE {'opening_price': '940', 'closing_price': '993', 'min_price': '920', 'max_price': '1028', 'average_price': '979.6877', 'units_traded': '895754.55953728', 'volume_1day': '895754.55953728', 'volume_7day': '3208997.625809464666780643', 'buy_price': '992', 'sell_price': '1002', '24H_fluctate': '53', '24H_fluctate_rate': '5.63'}\n",
      "ABT {'opening_price': '459', 'closing_price': '513', 'min_price': '454', 'max_price': '514', 'average_price': '486.8938', 'units_traded': '1187661.3296426', 'volume_1day': '1187661.3296426', 'volume_7day': '6117980.143409815632244475', 'buy_price': '512', 'sell_price': '513', '24H_fluctate': '54', '24H_fluctate_rate': '11.76'}\n",
      "RNT {'opening_price': '67.8', 'closing_price': '66.9', 'min_price': '65', 'max_price': '68.5', 'average_price': '66.826', 'units_traded': '5201084.9444637', 'volume_1day': '5201084.9444637', 'volume_7day': '78068637.925260423559662202', 'buy_price': '66.5', 'sell_price': '66.8', '24H_fluctate': '-0.89', '24H_fluctate_rate': '-1.32'}\n",
      "PLY {'opening_price': '24.1', 'closing_price': '24.9', 'min_price': '23.8', 'max_price': '25', 'average_price': '24.4337', 'units_traded': '8921094.38255258', 'volume_1day': '8921094.38255258', 'volume_7day': '176598086.031336234', 'buy_price': '24.7', 'sell_price': '24.9', '24H_fluctate': '0.8', '24H_fluctate_rate': '3.31'}\n",
      "WAVES {'opening_price': '3071', 'closing_price': '3132', 'min_price': '3005', 'max_price': '3369', 'average_price': '3124.6992', 'units_traded': '33407.53172279', 'volume_1day': '33407.53172279', 'volume_7day': '476513.69153519', 'buy_price': '3132', 'sell_price': '3137', '24H_fluctate': '61', '24H_fluctate_rate': '1.98'}\n",
      "LINK {'opening_price': '1228', 'closing_price': '1348', 'min_price': '1228', 'max_price': '1383', 'average_price': '1312.3655', 'units_traded': '725059.64128934', 'volume_1day': '725059.64128934', 'volume_7day': '2085609.098386308830088484', 'buy_price': '1335', 'sell_price': '1348', '24H_fluctate': '120', '24H_fluctate_rate': '9.77'}\n",
      "ENJ {'opening_price': '160', 'closing_price': '161', 'min_price': '156', 'max_price': '164', 'average_price': '159.9038', 'units_traded': '4791514.00891503', 'volume_1day': '4791514.00891503', 'volume_7day': '76108951.598763150421051293', 'buy_price': '161', 'sell_price': '162', '24H_fluctate': '1', '24H_fluctate_rate': '0.62'}\n",
      "PST {'opening_price': '155', 'closing_price': '164', 'min_price': '147', 'max_price': '175', 'average_price': '160.7944', 'units_traded': '3596918.68701371', 'volume_1day': '3596918.68701371', 'volume_7day': '16479743.026939683181106141', 'buy_price': '162', 'sell_price': '164', '24H_fluctate': '9', '24H_fluctate_rate': '5.80'}\n",
      "SALT {'opening_price': '277', 'closing_price': '287', 'min_price': '268', 'max_price': '301', 'average_price': '282.3061', 'units_traded': '1224967.66905831', 'volume_1day': '1224967.66905831', 'volume_7day': '23442734.60241554', 'buy_price': '284', 'sell_price': '285', '24H_fluctate': '10', '24H_fluctate_rate': '3.61'}\n",
      "RDN {'opening_price': '1238', 'closing_price': '1260', 'min_price': '1221', 'max_price': '1330', 'average_price': '1270.0154', 'units_traded': '304814.38160417', 'volume_1day': '304814.38160417', 'volume_7day': '6079484.911285983634873349', 'buy_price': '1253', 'sell_price': '1260', '24H_fluctate': '22', '24H_fluctate_rate': '1.77'}\n",
      "LOOM {'opening_price': '176', 'closing_price': '181', 'min_price': '163', 'max_price': '191', 'average_price': '174.4533', 'units_traded': '8433997.47639515', 'volume_1day': '8433997.47639515', 'volume_7day': '67141669.988900919914937611', 'buy_price': '181', 'sell_price': '183', '24H_fluctate': '5', '24H_fluctate_rate': '2.84'}\n",
      "PIVX {'opening_price': '2366', 'closing_price': '2391', 'min_price': '2300', 'max_price': '2435', 'average_price': '2353.6666', 'units_traded': '35649.63846156', 'volume_1day': '35649.63846156', 'volume_7day': '748294.06980144', 'buy_price': '2345', 'sell_price': '2391', '24H_fluctate': '25', '24H_fluctate_rate': '1.05'}\n",
      "INS {'opening_price': '552', 'closing_price': '557', 'min_price': '535', 'max_price': '580', 'average_price': '556.0406', 'units_traded': '199555.36356192', 'volume_1day': '199555.36356192', 'volume_7day': '4175958.1569851326', 'buy_price': '557', 'sell_price': '563', '24H_fluctate': '5', '24H_fluctate_rate': '0.90'}\n",
      "BCD {'opening_price': '3671', 'closing_price': '3596', 'min_price': '3510', 'max_price': '3730', 'average_price': '3616.2323', 'units_traded': '353844.78851767', 'volume_1day': '353844.78851767', 'volume_7day': '9724324.92295256', 'buy_price': '3583', 'sell_price': '3596', '24H_fluctate': '-75', '24H_fluctate_rate': '-2.04'}\n",
      "BZNT {'opening_price': '23.8', 'closing_price': '24.5', 'min_price': '23.7', 'max_price': '25.4', 'average_price': '24.3974', 'units_traded': '6567896.02575646', 'volume_1day': '6567896.02575646', 'volume_7day': '87107073.213598443707675173', 'buy_price': '24.4', 'sell_price': '24.5', '24H_fluctate': '0.7', '24H_fluctate_rate': '2.94'}\n",
      "XLM {'opening_price': '164', 'closing_price': '165', 'min_price': '161', 'max_price': '168', 'average_price': '165.0265', 'units_traded': '2432443.98336209', 'volume_1day': '2432443.98336209', 'volume_7day': '48764051.29907552', 'buy_price': '164', 'sell_price': '166', '24H_fluctate': '1', '24H_fluctate_rate': '0.60'}\n",
      "OCN {'opening_price': '5.09', 'closing_price': '5.53', 'min_price': '4.99', 'max_price': '5.77', 'average_price': '5.3767', 'units_traded': '224787437.49978946', 'volume_1day': '224787437.49978946', 'volume_7day': '4086533445.797674031860388577', 'buy_price': '5.49', 'sell_price': '5.53', '24H_fluctate': '0.44', '24H_fluctate_rate': '8.64'}\n",
      "BSV {'opening_price': '279900', 'closing_price': '256000', 'min_price': '238800', 'max_price': '282000', 'average_price': '262613.6363', 'units_traded': '93632.88556951', 'volume_1day': '93632.88556951', 'volume_7day': '1135945.03557071', 'buy_price': '256000', 'sell_price': '256900', '24H_fluctate': '-23900', '24H_fluctate_rate': '-8.53'}\n",
      "TMTG {'opening_price': '3.71', 'closing_price': '3.73', 'min_price': '3.62', 'max_price': '3.78', 'average_price': '3.7061', 'units_traded': '63100785.14615057', 'volume_1day': '63100785.14615057', 'volume_7day': '2295222202.474282085745264585', 'buy_price': '3.73', 'sell_price': '3.74', '24H_fluctate': '0.02', '24H_fluctate_rate': '0.53'}\n",
      "BAT {'opening_price': '421', 'closing_price': '418', 'min_price': '411', 'max_price': '430', 'average_price': '418.8942', 'units_traded': '197797.28251641', 'volume_1day': '197797.28251641', 'volume_7day': '5108187.470075246519448554', 'buy_price': '418', 'sell_price': '420', '24H_fluctate': '-3', '24H_fluctate_rate': '-0.71'}\n",
      "WET {'opening_price': '24.7', 'closing_price': '25.4', 'min_price': '24.1', 'max_price': '26.3', 'average_price': '25.1125', 'units_traded': '11942749.11273099', 'volume_1day': '11942749.11273099', 'volume_7day': '137927016.417351538552982421', 'buy_price': '25.2', 'sell_price': '25.4', '24H_fluctate': '0.7', '24H_fluctate_rate': '2.83'}\n",
      "XVG {'opening_price': '24.3', 'closing_price': '24.8', 'min_price': '24', 'max_price': '25.4', 'average_price': '24.5213', 'units_traded': '4165872.00028347', 'volume_1day': '4165872.00028347', 'volume_7day': '290251218.57236609', 'buy_price': '24.6', 'sell_price': '24.8', '24H_fluctate': '0.5', '24H_fluctate_rate': '2.05'}\n",
      "IOST {'opening_price': '18.6', 'closing_price': '19.5', 'min_price': '18.6', 'max_price': '19.5', 'average_price': '18.9986', 'units_traded': '4437918.59669439', 'volume_1day': '4437918.59669439', 'volume_7day': '155261010.77601326849476167', 'buy_price': '19.3', 'sell_price': '19.5', '24H_fluctate': '0.9', '24H_fluctate_rate': '4.83'}\n",
      "POLY {'opening_price': '120', 'closing_price': '121', 'min_price': '117', 'max_price': '123', 'average_price': '120.3148', 'units_traded': '858073.34052086', 'volume_1day': '858073.34052086', 'volume_7day': '18841162.347149208799204809', 'buy_price': '121', 'sell_price': '122', '24H_fluctate': '1', '24H_fluctate_rate': '0.83'}\n",
      "HC {'opening_price': '2042', 'closing_price': '2050', 'min_price': '1927', 'max_price': '2244', 'average_price': '2078.4296', 'units_traded': '521123.49224605', 'volume_1day': '521123.49224605', 'volume_7day': '3209277.44364238', 'buy_price': '2026', 'sell_price': '2035', '24H_fluctate': '8', '24H_fluctate_rate': '0.39'}\n",
      "ROM {'opening_price': '0.06', 'closing_price': '0.06', 'min_price': '0.05', 'max_price': '0.06', 'average_price': '0.0563', 'units_traded': '2596519171.41363333', 'volume_1day': '2596519171.41363333', 'volume_7day': '22434657953.195199999259999981', 'buy_price': '0.05', 'sell_price': '0.06', '24H_fluctate': '0', '24H_fluctate_rate': '0.00'}\n",
      "AMO {'opening_price': '0.73', 'closing_price': '0.73', 'min_price': '0.71', 'max_price': '0.73', 'average_price': '0.7239', 'units_traded': '209253310.14611644', 'volume_1day': '209253310.14611644', 'volume_7day': '6017707182.166878284592187345', 'buy_price': '0.72', 'sell_price': '0.73', '24H_fluctate': '0', '24H_fluctate_rate': '0.00'}\n",
      "ETZ {'opening_price': '253', 'closing_price': '269', 'min_price': '239', 'max_price': '276', 'average_price': '256.3717', 'units_traded': '3762640.0445738', 'volume_1day': '3762640.0445738', 'volume_7day': '59495711.762761372900777295', 'buy_price': '267', 'sell_price': '269', '24H_fluctate': '16', '24H_fluctate_rate': '6.32'}\n",
      "ARN {'opening_price': '725', 'closing_price': '746', 'min_price': '713', 'max_price': '749', 'average_price': '728.5329', 'units_traded': '213431.54271191', 'volume_1day': '213431.54271191', 'volume_7day': '7633232.45177484', 'buy_price': '741', 'sell_price': '746', '24H_fluctate': '21', '24H_fluctate_rate': '2.89'}\n",
      "APIS {'opening_price': '2.23', 'closing_price': '2.3', 'min_price': '2.21', 'max_price': '2.34', 'average_price': '2.2837', 'units_traded': '67072108.30535022', 'volume_1day': '67072108.30535022', 'volume_7day': '3966387535.211897606412263289', 'buy_price': '2.29', 'sell_price': '2.3', '24H_fluctate': '0.07', '24H_fluctate_rate': '3.13'}\n",
      "MTL {'opening_price': '3358', 'closing_price': '3432', 'min_price': '3342', 'max_price': '3513', 'average_price': '3415.5327', 'units_traded': '60644.02336968', 'volume_1day': '60644.02336968', 'volume_7day': '605996.84803239', 'buy_price': '3393', 'sell_price': '3432', '24H_fluctate': '74', '24H_fluctate_rate': '2.20'}\n",
      "DACC {'opening_price': '0.18', 'closing_price': '0.18', 'min_price': '0.18', 'max_price': '0.19', 'average_price': '0.187', 'units_traded': '254074111.96941059', 'volume_1day': '254074111.96941059', 'volume_7day': '6691253869.36322338', 'buy_price': '0.18', 'sell_price': '0.19', '24H_fluctate': '0', '24H_fluctate_rate': '0.00'}\n",
      "DAC {'opening_price': '6.54', 'closing_price': '7.32', 'min_price': '6.51', 'max_price': '7.5', 'average_price': '7.0365', 'units_traded': '165398881.59357115', 'volume_1day': '165398881.59357115', 'volume_7day': '2456576062.727347777664558232', 'buy_price': '7.32', 'sell_price': '7.37', '24H_fluctate': '0.78', '24H_fluctate_rate': '11.92'}\n",
      "BHP {'opening_price': '1670', 'closing_price': '1698', 'min_price': '1606', 'max_price': '1798', 'average_price': '1709.2701', 'units_traded': '69811.17835302', 'volume_1day': '69811.17835302', 'volume_7day': '786806.3175132', 'buy_price': '1678', 'sell_price': '1694', '24H_fluctate': '28', '24H_fluctate_rate': '1.67'}\n",
      "BTT {'opening_price': '2.25', 'closing_price': '2.23', 'min_price': '2.13', 'max_price': '2.29', 'average_price': '2.2179', 'units_traded': '836860138.75175989', 'volume_1day': '836860138.75175989', 'volume_7day': '8488314370.21949892', 'buy_price': '2.22', 'sell_price': '2.23', '24H_fluctate': '-0.02', '24H_fluctate_rate': '-0.88'}\n",
      "HDAC {'opening_price': '44.7', 'closing_price': '44.4', 'min_price': '43.6', 'max_price': '45', 'average_price': '44.3951', 'units_traded': '5036277.31427217', 'volume_1day': '5036277.31427217', 'volume_7day': '114762304.9553403', 'buy_price': '44.4', 'sell_price': '44.6', '24H_fluctate': '-0.3', '24H_fluctate_rate': '-0.67'}\n",
      "NPXS {'opening_price': '1.27', 'closing_price': '1.24', 'min_price': '1.22', 'max_price': '1.35', 'average_price': '1.275', 'units_traded': '730953040.35138216', 'volume_1day': '730953040.35138216', 'volume_7day': '9508497768.059849978525920244', 'buy_price': '1.24', 'sell_price': '1.26', '24H_fluctate': '-0.03', '24H_fluctate_rate': '-2.36'}\n",
      "AUTO {'opening_price': '2.26', 'closing_price': '2.3', 'min_price': '2.23', 'max_price': '2.3', 'average_price': '2.2649', 'units_traded': '77718095.61587806', 'volume_1day': '77718095.61587806', 'volume_7day': '3054477693.461189297406264406', 'buy_price': '2.29', 'sell_price': '2.3', '24H_fluctate': '0.04', '24H_fluctate_rate': '1.76'}\n",
      "GXC {'opening_price': '1406', 'closing_price': '1711', 'min_price': '1317', 'max_price': '1964', 'average_price': '1692.6159', 'units_traded': '3163389.21358814', 'volume_1day': '3163389.21358814', 'volume_7day': '4903236.15429311', 'buy_price': '1711', 'sell_price': '1713', '24H_fluctate': '305', '24H_fluctate_rate': '21.69'}\n",
      "ORBS {'opening_price': '40.9', 'closing_price': '42.8', 'min_price': '40.4', 'max_price': '43.8', 'average_price': '42.1245', 'units_traded': '28982653.86200517', 'volume_1day': '28982653.86200517', 'volume_7day': '236288796.077985800730047914', 'buy_price': '42.8', 'sell_price': '42.9', '24H_fluctate': '1.9', '24H_fluctate_rate': '4.64'}\n",
      "VALOR {'opening_price': '3244', 'closing_price': '3299', 'min_price': '3220', 'max_price': '3420', 'average_price': '3302.3734', 'units_traded': '64711.9812567', 'volume_1day': '64711.9812567', 'volume_7day': '855055.72516129102448166', 'buy_price': '3282', 'sell_price': '3299', '24H_fluctate': '55', '24H_fluctate_rate': '1.69'}\n",
      "CON {'opening_price': '24.8', 'closing_price': '25.4', 'min_price': '24.6', 'max_price': '26.2', 'average_price': '25.3681', 'units_traded': '54288441.82347766', 'volume_1day': '54288441.82347766', 'volume_7day': '433030132.955527749872723327', 'buy_price': '25.3', 'sell_price': '25.4', '24H_fluctate': '0.6', '24H_fluctate_rate': '2.41'}\n",
      "ANKR {'opening_price': '9.08', 'closing_price': '9.15', 'min_price': '8.89', 'max_price': '9.22', 'average_price': '9.084', 'units_traded': '19811751.94904324', 'volume_1day': '19811751.94904324', 'volume_7day': '306347422.74946187183867773', 'buy_price': '9.14', 'sell_price': '9.15', '24H_fluctate': '0.07', '24H_fluctate_rate': '0.77'}\n",
      "MIX {'opening_price': '86.4', 'closing_price': '80', 'min_price': '78.3', 'max_price': '86.9', 'average_price': '81.8137', 'units_traded': '26928799.18472383', 'volume_1day': '26928799.18472383', 'volume_7day': '93892486.5983385020095062', 'buy_price': '80', 'sell_price': '80.2', '24H_fluctate': '-6.4', '24H_fluctate_rate': '-7.40'}\n"
     ]
    }
   ],
   "source": [
    "import pybithumb\n",
    "\n",
    "all = pybithumb.get_current_price(\"ALL\")\n",
    "for k, v in all.items():\n",
    "    print(k, v)"
   ]
  },
  {
   "cell_type": "code",
   "execution_count": 48,
   "metadata": {},
   "outputs": [
    {
     "name": "stdout",
     "output_type": "stream",
     "text": [
      "현재가 :  BTC 9577000\n",
      "현재가 :  ETH 302100\n",
      "현재가 :  DASH 194500\n",
      "현재가 :  LTC 128400\n",
      "현재가 :  ETC 9960\n",
      "현재가 :  XRP 491\n",
      "현재가 :  BCH 487900\n",
      "현재가 :  XMR 104000\n",
      "현재가 :  ZEC 102800\n",
      "현재가 :  QTUM 3890\n",
      "현재가 :  BTG 31770\n",
      "현재가 :  EOS 7855\n",
      "현재가 :  ICX 446\n",
      "현재가 :  VET 9.63\n",
      "현재가 :  TRX 39.1\n",
      "현재가 :  ELF 231\n",
      "현재가 :  MITH 64.9\n",
      "현재가 :  MCO 6345\n",
      "현재가 :  OMG 2570\n",
      "현재가 :  KNC 298\n",
      "현재가 :  GNT 107\n",
      "현재가 :  ZIL 27\n",
      "현재가 :  ETHOS 251\n",
      "현재가 :  PAY 360\n",
      "현재가 :  WAX 89.6\n",
      "현재가 :  POWR 147\n",
      "현재가 :  LRC 104\n",
      "현재가 :  GTO 44.4\n",
      "현재가 :  STEEM 527\n",
      "현재가 :  STRAT 1230\n",
      "현재가 :  ZRX 394\n",
      "현재가 :  REP 28340\n",
      "현재가 :  AE 733\n",
      "현재가 :  XEM 166\n",
      "현재가 :  SNT 35.1\n",
      "현재가 :  ADA 118\n",
      "현재가 :  PPT 2522\n",
      "현재가 :  CTXC 365\n",
      "현재가 :  CMT 43.7\n",
      "현재가 :  THETA 145\n",
      "현재가 :  WTC 2436\n",
      "현재가 :  ITC 417\n",
      "현재가 :  TRUE 1001\n",
      "현재가 :  ABT 512\n",
      "현재가 :  RNT 66.9\n",
      "현재가 :  PLY 24.9\n",
      "현재가 :  WAVES 3132\n",
      "현재가 :  LINK 1347\n",
      "현재가 :  ENJ 162\n",
      "현재가 :  PST 161\n",
      "현재가 :  SALT 287\n",
      "현재가 :  RDN 1260\n",
      "현재가 :  LOOM 182\n",
      "현재가 :  PIVX 2391\n",
      "현재가 :  INS 563\n",
      "현재가 :  BCD 3596\n",
      "현재가 :  BZNT 24.5\n",
      "현재가 :  XLM 166\n",
      "현재가 :  OCN 5.52\n",
      "현재가 :  BSV 255500\n",
      "현재가 :  TMTG 3.73\n",
      "현재가 :  BAT 418\n",
      "현재가 :  WET 25.4\n",
      "현재가 :  XVG 24.8\n",
      "현재가 :  IOST 19.5\n",
      "현재가 :  POLY 121\n",
      "현재가 :  HC 2034\n",
      "현재가 :  ROM 0.06\n",
      "현재가 :  AMO 0.73\n",
      "현재가 :  ETZ 269\n",
      "현재가 :  ARN 739\n",
      "현재가 :  APIS 2.29\n",
      "현재가 :  MTL 3432\n",
      "현재가 :  DACC 0.19\n",
      "현재가 :  DAC 7.32\n",
      "현재가 :  BHP 1676\n",
      "현재가 :  BTT 2.23\n",
      "현재가 :  HDAC 44.4\n",
      "현재가 :  NPXS 1.24\n",
      "현재가 :  AUTO 2.3\n",
      "현재가 :  GXC 1727\n",
      "현재가 :  ORBS 42.8\n",
      "현재가 :  VALOR 3299\n",
      "현재가 :  CON 25.4\n",
      "현재가 :  ANKR 9.16\n",
      "현재가 :  MIX 80.2\n"
     ]
    }
   ],
   "source": [
    "import pybithumb\n",
    "\n",
    "# 현재가 조회\n",
    "all = pybithumb.get_current_price(\"ALL\")\n",
    "for ticker, data in all.items():\n",
    "    print(\"현재가 : \",ticker, data['closing_price'])"
   ]
  },
  {
   "cell_type": "markdown",
   "metadata": {},
   "source": [
    "### 7) 예외 처리\n",
    "\n",
    " - API 호출이 불안정할 경우, 이상 데이터로 인하여 손해 로직이 적용될 수 있으므로, 예외처리는 필수로 적용해야 한다."
   ]
  },
  {
   "cell_type": "code",
   "execution_count": 49,
   "metadata": {},
   "outputs": [
    {
     "name": "stdout",
     "output_type": "stream",
     "text": [
      "957000.0\n",
      "957000.0\n",
      "957000.0\n",
      "957000.0\n",
      "957000.0\n",
      "957000.0\n",
      "957000.0\n",
      "957000.0\n",
      "957000.0\n",
      "957000.0\n",
      "957000.0\n",
      "957000.0\n",
      "957000.0\n",
      "957000.0\n",
      "957000.0\n"
     ]
    },
    {
     "ename": "KeyboardInterrupt",
     "evalue": "",
     "output_type": "error",
     "traceback": [
      "\u001b[1;31m---------------------------------------------------------------------------\u001b[0m",
      "\u001b[1;31mKeyboardInterrupt\u001b[0m                         Traceback (most recent call last)",
      "\u001b[1;32m<ipython-input-49-310c220d3e6b>\u001b[0m in \u001b[0;36m<module>\u001b[1;34m\u001b[0m\n\u001b[0;32m     10\u001b[0m         \u001b[0mprint\u001b[0m\u001b[1;33m(\u001b[0m\u001b[1;34m\"에러 발생\"\u001b[0m\u001b[1;33m,\u001b[0m \u001b[0mprice\u001b[0m\u001b[1;33m)\u001b[0m\u001b[1;33m\u001b[0m\u001b[1;33m\u001b[0m\u001b[0m\n\u001b[0;32m     11\u001b[0m \u001b[1;33m\u001b[0m\u001b[0m\n\u001b[1;32m---> 12\u001b[1;33m     \u001b[0mtime\u001b[0m\u001b[1;33m.\u001b[0m\u001b[0msleep\u001b[0m\u001b[1;33m(\u001b[0m\u001b[1;36m0.2\u001b[0m\u001b[1;33m)\u001b[0m\u001b[1;33m\u001b[0m\u001b[1;33m\u001b[0m\u001b[0m\n\u001b[0m",
      "\u001b[1;31mKeyboardInterrupt\u001b[0m: "
     ]
    }
   ],
   "source": [
    "import pybithumb\n",
    "import time\n",
    "\n",
    "while True : \n",
    "    price = pybithumb.get_current_price(\"BTC\")\n",
    "    try : # try 블록 에러 시, except 실행\n",
    "        print(price/10) # none 값이 출력될 경우 에러 발생되게 설정 \n",
    "        \n",
    "    except :\n",
    "        print(\"에러 발생\", price)\n",
    "\n",
    "    time.sleep(0.2)"
   ]
  },
  {
   "cell_type": "code",
   "execution_count": null,
   "metadata": {},
   "outputs": [],
   "source": []
  }
 ],
 "metadata": {
  "kernelspec": {
   "display_name": "Python 3",
   "language": "python",
   "name": "python3"
  },
  "language_info": {
   "codemirror_mode": {
    "name": "ipython",
    "version": 3
   },
   "file_extension": ".py",
   "mimetype": "text/x-python",
   "name": "python",
   "nbconvert_exporter": "python",
   "pygments_lexer": "ipython3",
   "version": "3.7.3"
  }
 },
 "nbformat": 4,
 "nbformat_minor": 2
}
