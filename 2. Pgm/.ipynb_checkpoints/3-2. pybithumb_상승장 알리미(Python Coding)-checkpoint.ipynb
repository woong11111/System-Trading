{
 "cells": [
  {
   "cell_type": "markdown",
   "metadata": {},
   "source": [
    "## 1. 거래소 과거 시세 얻어오기"
   ]
  },
  {
   "cell_type": "code",
   "execution_count": 1,
   "metadata": {},
   "outputs": [
    {
     "name": "stdout",
     "output_type": "stream",
     "text": [
      "                      open   high    low  close        volume\n",
      "2018-05-10 00:00:00  200.0  340.0  198.0  215.0  4.871488e+08\n",
      "2018-05-11 00:00:00  215.0  223.0  142.0  182.0  3.905901e+08\n",
      "2018-05-12 00:00:00  182.0  190.0  157.0  178.0  2.145521e+08\n",
      "2018-05-13 00:00:00  178.0  183.0  172.0  183.0  7.918940e+07\n",
      "2018-05-14 00:00:00  183.0  189.0  172.0  179.0  8.747986e+07\n",
      "2018-05-15 00:00:00  178.0  180.0  170.0  170.0  4.331418e+07\n",
      "2018-05-16 00:00:00  170.0  171.0  146.0  148.0  8.077838e+07\n",
      "2018-05-17 00:00:00  149.0  167.0  149.0  158.0  4.013953e+07\n",
      "2018-05-18 00:00:00  159.0  160.0  143.0  145.0  4.072451e+07\n",
      "2018-05-19 00:00:00  145.0  157.0  145.0  155.0  3.128031e+07\n",
      "2018-05-20 00:00:00  155.0  163.0  151.0  159.0  4.137068e+07\n",
      "2018-05-21 00:00:00  159.0  161.0  154.0  156.0  3.549479e+07\n",
      "2018-05-22 00:00:00  155.0  168.0  153.0  161.0  9.093318e+07\n",
      "2018-05-23 00:00:00  161.0  162.0  141.0  147.0  6.720832e+07\n",
      "2018-05-24 00:00:00  147.0  148.0  127.0  135.0  1.009892e+08\n",
      "2018-05-25 00:00:00  135.0  140.0  129.0  134.0  6.125622e+07\n",
      "2018-05-26 00:00:00  135.0  137.0  132.0  135.0  3.117150e+07\n",
      "2018-05-27 00:00:00  135.0  136.0  129.0  130.0  2.979579e+07\n",
      "2018-05-28 00:00:00  130.0  131.0  114.0  118.0  5.450467e+07\n",
      "2018-05-29 00:00:00  118.0  124.0  108.0  120.0  7.549319e+07\n",
      "2018-05-30 00:00:00  120.0  133.0  119.0  121.0  5.860084e+07\n",
      "2018-05-31 00:00:00  120.0  126.0  117.0  124.0  4.598392e+07\n",
      "2018-06-01 00:00:00  124.0  127.0  121.0  121.0  3.238784e+07\n",
      "2018-06-02 00:00:00  121.0  128.0  120.0  127.0  4.446714e+07\n",
      "2018-06-03 00:00:00  126.0  146.0  125.0  140.0  1.535544e+08\n",
      "2018-06-04 00:00:00  140.0  141.0  128.0  130.0  7.198752e+07\n",
      "2018-06-05 00:00:00  130.0  135.0  127.0  133.0  4.320273e+07\n",
      "2018-06-06 00:00:00  133.0  143.0  132.0  141.0  4.938859e+07\n",
      "2018-06-07 00:00:00  141.0  152.0  137.0  145.0  1.304468e+08\n",
      "2018-06-08 00:00:00  145.0  145.0  136.0  138.0  7.181004e+07\n",
      "...                    ...    ...    ...    ...           ...\n",
      "2019-05-08 00:00:00   19.2   19.9   18.5   19.3  6.728973e+06\n",
      "2019-05-09 00:00:00   19.3   19.8   18.9   19.0  6.084146e+06\n",
      "2019-05-10 00:00:00   19.0   19.4   18.2   19.2  9.570281e+06\n",
      "2019-05-11 00:00:00   19.1   19.8   18.7   19.4  1.407505e+07\n",
      "2019-05-12 00:00:00   19.3   21.1   19.0   19.3  1.949391e+07\n",
      "2019-05-13 00:00:00   19.3   20.5   18.7   20.0  1.329069e+07\n",
      "2019-05-14 00:00:00   20.1   22.0   19.6   21.3  2.451197e+07\n",
      "2019-05-15 00:00:00   21.3   23.9   21.0   22.6  3.270967e+07\n",
      "2019-05-16 00:00:00   22.6   26.0   22.3   23.4  6.231760e+07\n",
      "2019-05-17 00:00:00   23.4   24.4   20.2   20.9  2.666841e+07\n",
      "2019-05-18 00:00:00   20.9   22.7   20.5   21.8  9.011928e+06\n",
      "2019-05-19 00:00:00   21.8   22.6   20.6   21.7  1.200731e+07\n",
      "2019-05-20 00:00:00   21.8   22.3   20.7   21.2  1.037896e+07\n",
      "2019-05-21 00:00:00   21.3   24.5   21.1   23.5  6.273167e+07\n",
      "2019-05-22 00:00:00   23.5   26.7   23.3   24.9  1.327442e+08\n",
      "2019-05-23 00:00:00   25.0   26.3   22.8   24.4  4.254864e+07\n",
      "2019-05-24 00:00:00   24.5   25.3   24.1   24.7  4.361121e+07\n",
      "2019-05-25 00:00:00   24.5   24.8   23.6   24.0  2.155003e+07\n",
      "2019-05-26 00:00:00   24.1   24.5   23.4   23.8  1.719341e+07\n",
      "2019-05-27 00:00:00   23.8   25.1   23.8   24.6  3.122174e+07\n",
      "2019-05-28 00:00:00   24.6   26.7   24.0   25.5  5.655270e+07\n",
      "2019-05-29 00:00:00   25.5   26.1   24.2   25.4  4.192605e+07\n",
      "2019-05-30 00:00:00   25.4   26.4   24.9   26.2  4.930731e+07\n",
      "2019-05-31 00:00:00   26.2   27.9   23.6   25.0  1.038034e+08\n",
      "2019-06-01 00:00:00   24.9   26.1   24.1   24.8  3.860611e+07\n",
      "2019-06-02 00:00:00   24.8   25.8   24.5   25.4  2.958445e+07\n",
      "2019-06-03 00:00:00   25.3   26.2   24.6   24.7  3.478179e+07\n",
      "2019-06-04 00:00:00   24.8   30.7   24.2   30.6  2.371483e+08\n",
      "2019-06-05 00:00:00   30.7   31.0   26.1   26.5  1.717008e+08\n",
      "2019-06-06 12:00:00   26.5   27.3   25.9   27.0  1.912510e+07\n",
      "\n",
      "[393 rows x 5 columns]\n"
     ]
    }
   ],
   "source": [
    "import pybithumb\n",
    "\n",
    "zil = pybithumb.get_ohlcv(\"ZIL\")\n",
    "print(zil)"
   ]
  },
  {
   "cell_type": "markdown",
   "metadata": {},
   "source": [
    "## 2. Day 종가 Chart 그리기"
   ]
  },
  {
   "cell_type": "code",
   "execution_count": 11,
   "metadata": {},
   "outputs": [
    {
     "name": "stderr",
     "output_type": "stream",
     "text": [
      "C:\\Users\\woong\\Anaconda3\\lib\\site-packages\\pandas\\plotting\\_converter.py:129: FutureWarning: Using an implicitly registered datetime converter for a matplotlib plotting method. The converter was registered by pandas on import. Future versions of pandas will require you to explicitly register matplotlib converters.\n",
      "\n",
      "To register the converters:\n",
      "\t>>> from pandas.plotting import register_matplotlib_converters\n",
      "\t>>> register_matplotlib_converters()\n",
      "  warnings.warn(msg, FutureWarning)\n"
     ]
    },
    {
     "data": {
      "text/plain": [
       "[<matplotlib.lines.Line2D at 0x82609b0>]"
      ]
     },
     "execution_count": 11,
     "metadata": {},
     "output_type": "execute_result"
    },
    {
     "data": {
      "image/png": "[encoded data removed]",
      "text/plain": [
       "<Figure size 1080x576 with 1 Axes>"
      ]
     },
     "metadata": {
      "needs_background": "light"
     },
     "output_type": "display_data"
    }
   ],
   "source": [
    "import matplotlib\n",
    "import matplotlib.pyplot as plt\n",
    "%matplotlib inline\n",
    "fig, ax = plt.subplots(figsize=(15,8))\n",
    "plt.plot(zil.index, zil['close'], '.', color = 'blue')"
   ]
  },
  {
   "cell_type": "markdown",
   "metadata": {},
   "source": [
    "## 3. 이동평균 계산하기"
   ]
  },
  {
   "cell_type": "code",
   "execution_count": 13,
   "metadata": {},
   "outputs": [
    {
     "name": "stdout",
     "output_type": "stream",
     "text": [
      "2018-11-20 00:00:00         NaN\n",
      "2018-11-21 00:00:00         NaN\n",
      "2018-11-22 00:00:00         NaN\n",
      "2018-11-23 00:00:00         NaN\n",
      "2018-11-24 00:00:00     63000.0\n",
      "2018-11-25 00:00:00     68210.0\n",
      "2018-11-26 00:00:00     84990.0\n",
      "2018-11-27 00:00:00    107740.0\n",
      "2018-11-28 00:00:00    124420.0\n",
      "2018-11-29 00:00:00    130780.0\n",
      "2018-11-30 00:00:00    135260.0\n",
      "2018-12-01 00:00:00    129760.0\n",
      "2018-12-02 00:00:00    119700.0\n",
      "2018-12-03 00:00:00    112820.0\n",
      "2018-12-04 00:00:00    109180.0\n",
      "2018-12-05 00:00:00    106410.0\n",
      "2018-12-06 00:00:00    107890.0\n",
      "2018-12-07 00:00:00    108090.0\n",
      "2018-12-08 00:00:00    110050.0\n",
      "2018-12-09 00:00:00    111310.0\n",
      "2018-12-10 00:00:00    112980.0\n",
      "2018-12-11 00:00:00    108940.0\n",
      "2018-12-12 00:00:00    105960.0\n",
      "2018-12-13 00:00:00    102400.0\n",
      "2018-12-14 00:00:00     97640.0\n",
      "2018-12-15 00:00:00     91160.0\n",
      "2018-12-16 00:00:00     88310.0\n",
      "2018-12-17 00:00:00     85730.0\n",
      "2018-12-18 00:00:00     83970.0\n",
      "2018-12-19 00:00:00     86830.0\n",
      "                         ...   \n",
      "2019-05-08 00:00:00     61020.0\n",
      "2019-05-09 00:00:00     61900.0\n",
      "2019-05-10 00:00:00     63010.0\n",
      "2019-05-11 00:00:00     64110.0\n",
      "2019-05-12 00:00:00     64930.0\n",
      "2019-05-13 00:00:00     66250.0\n",
      "2019-05-14 00:00:00     67210.0\n",
      "2019-05-15 00:00:00     68160.0\n",
      "2019-05-16 00:00:00     70040.0\n",
      "2019-05-17 00:00:00     70740.0\n",
      "2019-05-18 00:00:00     71620.0\n",
      "2019-05-19 00:00:00     72260.0\n",
      "2019-05-20 00:00:00     72160.0\n",
      "2019-05-21 00:00:00     80970.0\n",
      "2019-05-22 00:00:00     90880.0\n",
      "2019-05-23 00:00:00     99780.0\n",
      "2019-05-24 00:00:00    107520.0\n",
      "2019-05-25 00:00:00    114260.0\n",
      "2019-05-26 00:00:00    113660.0\n",
      "2019-05-27 00:00:00    116880.0\n",
      "2019-05-28 00:00:00    119520.0\n",
      "2019-05-29 00:00:00    137840.0\n",
      "2019-05-30 00:00:00    163980.0\n",
      "2019-05-31 00:00:00    183660.0\n",
      "2019-06-01 00:00:00    199460.0\n",
      "2019-06-02 00:00:00    217300.0\n",
      "2019-06-03 00:00:00    226700.0\n",
      "2019-06-04 00:00:00    234780.0\n",
      "2019-06-05 00:00:00    241120.0\n",
      "2019-06-06 14:00:00    248500.0\n",
      "Name: close, Length: 199, dtype: float64\n"
     ]
    }
   ],
   "source": [
    "import pybithumb\n",
    "\n",
    "bsv = pybithumb.get_ohlcv(\"BSV\")\n",
    "close = bsv['close']\n",
    "\n",
    "window = close.rolling(5)\n",
    "\n",
    "MA5 = window.mean()\n",
    "print(MA5)"
   ]
  },
  {
   "cell_type": "markdown",
   "metadata": {},
   "source": [
    "## 4. 상승장/하락장 판단하기 (이동평균선)"
   ]
  },
  {
   "cell_type": "code",
   "execution_count": 21,
   "metadata": {},
   "outputs": [
    {
     "name": "stdout",
     "output_type": "stream",
     "text": [
      "상승장\n"
     ]
    }
   ],
   "source": [
    "import pybithumb\n",
    "\n",
    "zil = pybithumb.get_ohlcv(\"ZIL\")\n",
    "ma5 = zil['close'].rolling(window=5).mean()\n",
    "\n",
    "last_ma5 = ma5[-2]\n",
    "\n",
    "price = pybithumb.get_current_price(\"ZIL\")\n",
    "\n",
    "if price > last_ma5 :\n",
    "    print(\"상승장\")\n",
    "else :\n",
    "    print(\"하락장\")"
   ]
  },
  {
   "cell_type": "markdown",
   "metadata": {},
   "source": [
    "## 5. 코인 별 상승장/하락장 판단하기"
   ]
  },
  {
   "cell_type": "code",
   "execution_count": 23,
   "metadata": {},
   "outputs": [
    {
     "name": "stdout",
     "output_type": "stream",
     "text": [
      "BTC 하락장\n",
      "ETH 하락장\n",
      "DASH 하락장\n",
      "LTC 하락장\n",
      "ETC 하락장\n",
      "XRP 하락장\n",
      "BCH 하락장\n",
      "XMR 하락장\n",
      "ZEC 하락장\n",
      "QTUM 하락장\n",
      "BTG 하락장\n",
      "EOS 하락장\n",
      "ICX 하락장\n",
      "VET 하락장\n",
      "TRX 하락장\n",
      "ELF 하락장\n",
      "MITH 하락장\n",
      "MCO 하락장\n",
      "OMG 하락장\n",
      "KNC 하락장\n",
      "GNT 하락장\n",
      "ZIL 상승장\n",
      "ETHOS 상승장\n",
      "PAY 하락장\n",
      "WAX 하락장\n",
      "POWR 하락장\n",
      "LRC 하락장\n",
      "GTO 하락장\n",
      "STEEM 하락장\n",
      "STRAT 하락장\n",
      "ZRX 상승장\n",
      "REP 하락장\n",
      "AE 하락장\n",
      "XEM 하락장\n",
      "SNT 하락장\n",
      "ADA 하락장\n",
      "PPT 하락장\n",
      "CTXC 하락장\n",
      "CMT 하락장\n",
      "THETA 상승장\n",
      "WTC 하락장\n",
      "ITC 상승장\n",
      "TRUE 상승장\n",
      "ABT 상승장\n",
      "RNT 상승장\n",
      "PLY 하락장\n",
      "WAVES 하락장\n",
      "LINK 상승장\n",
      "ENJ 하락장\n",
      "PST 하락장\n",
      "SALT 하락장\n",
      "RDN 하락장\n",
      "LOOM 상승장\n",
      "PIVX 하락장\n",
      "INS 하락장\n",
      "BCD 하락장\n",
      "BZNT 하락장\n",
      "XLM 하락장\n",
      "OCN 하락장\n",
      "BSV 상승장\n",
      "TMTG 하락장\n",
      "BAT 하락장\n",
      "WET 하락장\n",
      "XVG 하락장\n",
      "IOST 하락장\n",
      "POLY 하락장\n",
      "HC 상승장\n",
      "ROM 상승장\n",
      "AMO 하락장\n",
      "ETZ 상승장\n",
      "ARN 하락장\n",
      "APIS 하락장\n",
      "MTL 하락장\n",
      "DACC 상승장\n",
      "DAC 상승장\n",
      "BHP 하락장\n",
      "BTT 하락장\n",
      "HDAC 하락장\n",
      "NPXS 하락장\n",
      "AUTO 하락장\n",
      "GXC 상승장\n",
      "ORBS 상승장\n",
      "VALOR 하락장\n",
      "CON 하락장\n",
      "ANKR 상승장\n",
      "MIX 상승장\n"
     ]
    }
   ],
   "source": [
    "import pybithumb\n",
    "\n",
    "def bull_market(ticker):\n",
    "    df = pybithumb.get_ohlcv(ticker)\n",
    "    ma5 = df['close'].rolling(window=5).mean()\n",
    "    price = pybithumb.get_current_price(ticker)\n",
    "    last_ma5 = ma5[-2]\n",
    "    \n",
    "    if price > last_ma5 :\n",
    "        print(ticker, \"상승장\")\n",
    "    \n",
    "    else :\n",
    "        print(ticker, \"하락장\")\n",
    "    \n",
    "tickers = pybithumb.get_tickers()\n",
    "for ticker in tickers :\n",
    "    bull_market(ticker)"
   ]
  },
  {
   "cell_type": "code",
   "execution_count": null,
   "metadata": {},
   "outputs": [],
   "source": []
  }
 ],
 "metadata": {
  "kernelspec": {
   "display_name": "Python 3",
   "language": "python",
   "name": "python3"
  },
  "language_info": {
   "codemirror_mode": {
    "name": "ipython",
    "version": 3
   },
   "file_extension": ".py",
   "mimetype": "text/x-python",
   "name": "python",
   "nbconvert_exporter": "python",
   "pygments_lexer": "ipython3",
   "version": "3.7.3"
  }
 },
 "nbformat": 4,
 "nbformat_minor": 2
}
