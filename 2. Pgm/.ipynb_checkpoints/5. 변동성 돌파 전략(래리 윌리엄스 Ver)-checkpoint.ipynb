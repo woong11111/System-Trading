{
 "cells": [
  {
   "cell_type": "markdown",
   "metadata": {},
   "source": [
    "## 1. 전략"
   ]
  },
  {
   "cell_type": "markdown",
   "metadata": {},
   "source": [
    "- 1) 가격 변동폭 계산 : 전일 고가 - 전일 저가로 전일 가격 변동폭 계싼\n",
    "- 2) 매수 기준 : 당일 시간에서 (변동폭*0.5) 이상 상승하면 해당 가격에 추격 매수\n",
    "- 3) 매도 기준 : 당일 종가 매도"
   ]
  },
  {
   "cell_type": "markdown",
   "metadata": {},
   "source": [
    "## 2. 실행 코드"
   ]
  },
  {
   "cell_type": "markdown",
   "metadata": {},
   "source": [
    "### 1) 주기적 현재가 조회"
   ]
  },
  {
   "cell_type": "code",
   "execution_count": 125,
   "metadata": {},
   "outputs": [
    {
     "name": "stdout",
     "output_type": "stream",
     "text": [
      "8060.0\n",
      "8060.0\n",
      "8060.0\n",
      "8060.0\n",
      "8060.0\n",
      "8060.0\n"
     ]
    },
    {
     "ename": "KeyboardInterrupt",
     "evalue": "",
     "output_type": "error",
     "traceback": [
      "\u001b[1;31m---------------------------------------------------------------------------\u001b[0m",
      "\u001b[1;31mKeyboardInterrupt\u001b[0m                         Traceback (most recent call last)",
      "\u001b[1;32m<ipython-input-125-37fe4f04f090>\u001b[0m in \u001b[0;36m<module>\u001b[1;34m\u001b[0m\n\u001b[0;32m      5\u001b[0m     \u001b[0mprice\u001b[0m \u001b[1;33m=\u001b[0m \u001b[0mpybithumb\u001b[0m\u001b[1;33m.\u001b[0m\u001b[0mget_current_price\u001b[0m\u001b[1;33m(\u001b[0m\u001b[1;34m\"EOS\"\u001b[0m\u001b[1;33m)\u001b[0m\u001b[1;33m\u001b[0m\u001b[1;33m\u001b[0m\u001b[0m\n\u001b[0;32m      6\u001b[0m     \u001b[0mprint\u001b[0m\u001b[1;33m(\u001b[0m\u001b[0mprice\u001b[0m\u001b[1;33m)\u001b[0m\u001b[1;33m\u001b[0m\u001b[1;33m\u001b[0m\u001b[0m\n\u001b[1;32m----> 7\u001b[1;33m     \u001b[0mtime\u001b[0m\u001b[1;33m.\u001b[0m\u001b[0msleep\u001b[0m\u001b[1;33m(\u001b[0m\u001b[1;36m0.2\u001b[0m\u001b[1;33m)\u001b[0m \u001b[1;31m# 0.2초 간격\u001b[0m\u001b[1;33m\u001b[0m\u001b[1;33m\u001b[0m\u001b[0m\n\u001b[0m",
      "\u001b[1;31mKeyboardInterrupt\u001b[0m: "
     ]
    }
   ],
   "source": [
    "import pybithumb\n",
    "import time\n",
    "\n",
    "while True :\n",
    "    price = pybithumb.get_current_price(\"EOS\")\n",
    "    print(price)\n",
    "    time.sleep(0.2) # 0.2초 간격"
   ]
  },
  {
   "cell_type": "markdown",
   "metadata": {},
   "source": [
    "### 2) 목표가 계산하기"
   ]
  },
  {
   "cell_type": "code",
   "execution_count": 126,
   "metadata": {},
   "outputs": [
    {
     "name": "stdout",
     "output_type": "stream",
     "text": [
      "7930.0\n"
     ]
    }
   ],
   "source": [
    "df = pybithumb.get_ohlcv(\"EOS\")\n",
    "\n",
    "yesterday = df.iloc[-2]\n",
    "\n",
    "today_open = yesterday['close']\n",
    "yesterday_high = yesterday['high']\n",
    "yesterday_low = yesterday['low']\n",
    "\n",
    "target = today_open + (yesterday_high - yesterday_low) * 0.5\n",
    "\n",
    "print(target)"
   ]
  },
  {
   "cell_type": "code",
   "execution_count": 7,
   "metadata": {},
   "outputs": [],
   "source": [
    "# 함수 정의\n",
    "def get_target_price(ticker) :\n",
    "    df = pybithumb.get_ohlcv(ticker)\n",
    "    yesterday = df.iloc[-2]\n",
    "    today_open = yesterday['close']\n",
    "    yesterday_high = yesterday['high']\n",
    "    yesterday_low = yesterday['low']\n",
    "    target = today_open + (yesterday_high - yesterday_low) * 0.5\n",
    "    return target"
   ]
  },
  {
   "cell_type": "code",
   "execution_count": 181,
   "metadata": {},
   "outputs": [
    {
     "data": {
      "text/plain": [
       "7930.0"
      ]
     },
     "execution_count": 181,
     "metadata": {},
     "output_type": "execute_result"
    }
   ],
   "source": [
    "get_target_price(\"EOS\")"
   ]
  },
  {
   "cell_type": "markdown",
   "metadata": {},
   "source": [
    "### 3) Midnight 갱신"
   ]
  },
  {
   "cell_type": "code",
   "execution_count": 182,
   "metadata": {},
   "outputs": [
    {
     "ename": "KeyboardInterrupt",
     "evalue": "",
     "output_type": "error",
     "traceback": [
      "\u001b[1;31m---------------------------------------------------------------------------\u001b[0m",
      "\u001b[1;31mKeyboardInterrupt\u001b[0m                         Traceback (most recent call last)",
      "\u001b[1;32m<ipython-input-182-cd173eb200f1>\u001b[0m in \u001b[0;36m<module>\u001b[1;34m\u001b[0m\n\u001b[0;32m     13\u001b[0m \u001b[1;33m\u001b[0m\u001b[0m\n\u001b[0;32m     14\u001b[0m \u001b[1;33m\u001b[0m\u001b[0m\n\u001b[1;32m---> 15\u001b[1;33m     \u001b[0mtime\u001b[0m\u001b[1;33m.\u001b[0m\u001b[0msleep\u001b[0m\u001b[1;33m(\u001b[0m\u001b[1;36m1\u001b[0m\u001b[1;33m)\u001b[0m\u001b[1;33m\u001b[0m\u001b[1;33m\u001b[0m\u001b[0m\n\u001b[0m",
      "\u001b[1;31mKeyboardInterrupt\u001b[0m: "
     ]
    }
   ],
   "source": [
    "import time\n",
    "import datetime\n",
    "\n",
    "\n",
    "now = datetime.datetime.now()\n",
    "mid = datetime.datetime(now.year, now.month, now.day) + datetime.timedelta(1)\n",
    "\n",
    "while True :\n",
    "    now = datetime.datetime.now()\n",
    "    if mid < now < mid + datetime.timedelta(seconds=10) :\n",
    "        print(\"정각입니다.\")\n",
    "        mid = datetime.datetime(now.year, now.month, now.day) + datetime.timedelta(1)\n",
    "\n",
    "        \n",
    "    time.sleep(1)"
   ]
  },
  {
   "cell_type": "markdown",
   "metadata": {},
   "source": [
    "### 4) 자정에 목표가 갱신"
   ]
  },
  {
   "cell_type": "code",
   "execution_count": 171,
   "metadata": {},
   "outputs": [
    {
     "name": "stdout",
     "output_type": "stream",
     "text": [
      "10435000.0\n",
      "10435000.0\n",
      "10435000.0\n",
      "10435000.0\n",
      "10435000.0\n",
      "10435000.0\n",
      "10435000.0\n"
     ]
    },
    {
     "ename": "KeyboardInterrupt",
     "evalue": "",
     "output_type": "error",
     "traceback": [
      "\u001b[1;31m---------------------------------------------------------------------------\u001b[0m",
      "\u001b[1;31mKeyboardInterrupt\u001b[0m                         Traceback (most recent call last)",
      "\u001b[1;32m<ipython-input-171-950ea9e9c752>\u001b[0m in \u001b[0;36m<module>\u001b[1;34m\u001b[0m\n\u001b[0;32m     25\u001b[0m     \u001b[0mprint\u001b[0m\u001b[1;33m(\u001b[0m\u001b[0mcurrent_price\u001b[0m\u001b[1;33m)\u001b[0m\u001b[1;33m\u001b[0m\u001b[1;33m\u001b[0m\u001b[0m\n\u001b[0;32m     26\u001b[0m \u001b[1;33m\u001b[0m\u001b[0m\n\u001b[1;32m---> 27\u001b[1;33m     \u001b[0mtime\u001b[0m\u001b[1;33m.\u001b[0m\u001b[0msleep\u001b[0m\u001b[1;33m(\u001b[0m\u001b[1;36m1\u001b[0m\u001b[1;33m)\u001b[0m\u001b[1;33m\u001b[0m\u001b[1;33m\u001b[0m\u001b[0m\n\u001b[0m",
      "\u001b[1;31mKeyboardInterrupt\u001b[0m: "
     ]
    }
   ],
   "source": [
    "import time\n",
    "import pybithumb\n",
    "import datetime\n",
    "\n",
    "def get_target_price(ticker):\n",
    "    df = pybithumb.get_ohlcv(ticker)\n",
    "    yesterday = df.iloc[-2]\n",
    "    today_open = yesterday['close']\n",
    "    yesterday_high = yesterday['high']\n",
    "    yesterday_low = yesterday['low']\n",
    "    target = today_open + (yesterday_high - yesterday_low) * 0.5\n",
    "    return target\n",
    "\n",
    "now = datetime.datetime.now()\n",
    "mid = datetime.datetime(now.year, now.month, now.day) + datetime.timedelta(1)\n",
    "target_price = get_target_price(\"BTC\")\n",
    "\n",
    "while True : \n",
    "    now = datetime.datetime.now()\n",
    "    if mid < now < mid + datetime.timedelta(seconds=10) :\n",
    "        target_price = get_target_price(\"BTC\")\n",
    "        mid = datetime.datetime(now.year, now.month, now.day) + datetime.timedelta(1)\n",
    "        \n",
    "    current_price = pybithumb.get_current_price(\"BTC\")\n",
    "    print(current_price)\n",
    "    \n",
    "    time.sleep(1)"
   ]
  },
  {
   "cell_type": "markdown",
   "metadata": {},
   "source": [
    "### 5) 목표가 돌파 시 자동매수/자동매도"
   ]
  },
  {
   "cell_type": "code",
   "execution_count": 185,
   "metadata": {},
   "outputs": [],
   "source": [
    "# 자동매수 함수 선언\n",
    "def buy_crypto_currency(ticker):\n",
    "    krw = bithumb.get_balance(ticker)[2]\n",
    "    orderbook = pybithumb.get_orderbook(ticker)\n",
    "    sell_price = orderbook['asks'][0]['price']\n",
    "    unit = krw/float(sell_price)\n",
    "    bithumb.buy_market_order(ticker, unit)\n",
    "    \n",
    "# 자동매도 함수 선언\n",
    "def sell_crypto_currency(ticker) :\n",
    "    unit = bithumb.get_balance(ticker)[0]\n",
    "    bithumb.sell_market_order(ticker, unit)"
   ]
  },
  {
   "cell_type": "code",
   "execution_count": 124,
   "metadata": {},
   "outputs": [],
   "source": [
    "# Bithumb API Class 생성\n",
    "with open(\"../../bithumb_api_key.txt\") as f:\n",
    "    lines = f.readlines()\n",
    "    key = lines[0].strip()\n",
    "    secret = lines[1].strip()\n",
    "    bithumb = pybithumb.Bithumb(key, secret)"
   ]
  },
  {
   "cell_type": "code",
   "execution_count": 194,
   "metadata": {},
   "outputs": [
    {
     "ename": "KeyboardInterrupt",
     "evalue": "",
     "output_type": "error",
     "traceback": [
      "\u001b[1;31m---------------------------------------------------------------------------\u001b[0m",
      "\u001b[1;31mKeyboardInterrupt\u001b[0m                         Traceback (most recent call last)",
      "\u001b[1;32m<ipython-input-194-009829551748>\u001b[0m in \u001b[0;36m<module>\u001b[1;34m\u001b[0m\n\u001b[0;32m     30\u001b[0m     \u001b[1;32mexcept\u001b[0m \u001b[1;33m:\u001b[0m\u001b[1;33m\u001b[0m\u001b[1;33m\u001b[0m\u001b[0m\n\u001b[0;32m     31\u001b[0m         \u001b[0mprint\u001b[0m\u001b[1;33m(\u001b[0m\u001b[1;34m\"에러 발생\"\u001b[0m\u001b[1;33m)\u001b[0m\u001b[1;33m\u001b[0m\u001b[1;33m\u001b[0m\u001b[0m\n\u001b[1;32m---> 32\u001b[1;33m     \u001b[0mtime\u001b[0m\u001b[1;33m.\u001b[0m\u001b[0msleep\u001b[0m\u001b[1;33m(\u001b[0m\u001b[1;36m1\u001b[0m\u001b[1;33m)\u001b[0m\u001b[1;33m\u001b[0m\u001b[1;33m\u001b[0m\u001b[0m\n\u001b[0m",
      "\u001b[1;31mKeyboardInterrupt\u001b[0m: "
     ]
    }
   ],
   "source": [
    "import time\n",
    "import pybithumb\n",
    "import datetime\n",
    "\n",
    "def get_target_price(ticker):\n",
    "    df = pybithumb.get_ohlcv(ticker)\n",
    "    yesterday = df.iloc[-2]\n",
    "    today_open = yesterday['close']\n",
    "    yesterday_high = yesterday['high']\n",
    "    yesterday_low = yesterday['low']\n",
    "    target = today_open + (yesterday_high - yesterday_low) * 0.5\n",
    "    return target\n",
    "\n",
    "now = datetime.datetime.now()\n",
    "mid = datetime.datetime(now.year, now.month, now.day) + datetime.timedelta(1)\n",
    "target_price = get_target_price(\"ZIL\")\n",
    "\n",
    "while True : \n",
    "    try :\n",
    "        now = datetime.datetime.now()\n",
    "        if mid < now < mid + datetime.timedelta(seconds=10) :\n",
    "            target_price = get_target_price(\"ZIL\")\n",
    "            mid = datetime.datetime(now.year, now.month, now.day) + datetime.timedelta(1)\n",
    "            sell_crypto_currency(\"ZIL\")\n",
    "    \n",
    "        current_price = pybithumb.get_current_price(\"ZIL\")\n",
    "        if current_price > target_price :\n",
    "            buy_crypto_currency(\"ZIL\")\n",
    "            \n",
    "    except :\n",
    "        print(\"에러 발생\")\n",
    "    time.sleep(1)"
   ]
  }
 ],
 "metadata": {
  "kernelspec": {
   "display_name": "Python 3",
   "language": "python",
   "name": "python3"
  },
  "language_info": {
   "codemirror_mode": {
    "name": "ipython",
    "version": 3
   },
   "file_extension": ".py",
   "mimetype": "text/x-python",
   "name": "python",
   "nbconvert_exporter": "python",
   "pygments_lexer": "ipython3",
   "version": "3.7.3"
  }
 },
 "nbformat": 4,
 "nbformat_minor": 2
}
