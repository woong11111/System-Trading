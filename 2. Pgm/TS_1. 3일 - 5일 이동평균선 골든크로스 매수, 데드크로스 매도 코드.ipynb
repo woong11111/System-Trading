{
 "cells": [
  {
   "cell_type": "code",
   "execution_count": 1,
   "metadata": {},
   "outputs": [],
   "source": [
    "import pybithumb\n",
    "import time\n",
    "import datetime \n",
    "import sys\n",
    "import os"
   ]
  },
  {
   "cell_type": "code",
   "execution_count": 7,
   "metadata": {},
   "outputs": [
    {
     "data": {
      "text/plain": [
       "['C:\\\\Users\\\\woong\\\\Desktop\\\\System-Trading\\\\2. Pgm',\n",
       " 'C:\\\\Users\\\\woong\\\\Anaconda3\\\\python37.zip',\n",
       " 'C:\\\\Users\\\\woong\\\\Anaconda3\\\\DLLs',\n",
       " 'C:\\\\Users\\\\woong\\\\Anaconda3\\\\lib',\n",
       " 'C:\\\\Users\\\\woong\\\\Anaconda3',\n",
       " '',\n",
       " 'C:\\\\Users\\\\woong\\\\Anaconda3\\\\lib\\\\site-packages',\n",
       " 'C:\\\\Users\\\\woong\\\\Anaconda3\\\\lib\\\\site-packages\\\\win32',\n",
       " 'C:\\\\Users\\\\woong\\\\Anaconda3\\\\lib\\\\site-packages\\\\win32\\\\lib',\n",
       " 'C:\\\\Users\\\\woong\\\\Anaconda3\\\\lib\\\\site-packages\\\\Pythonwin',\n",
       " 'C:\\\\Users\\\\woong\\\\Anaconda3\\\\lib\\\\site-packages\\\\IPython\\\\extensions',\n",
       " 'C:\\\\Users\\\\woong\\\\.ipython']"
      ]
     },
     "execution_count": 7,
     "metadata": {},
     "output_type": "execute_result"
    }
   ],
   "source": [
    "sys.path"
   ]
  },
  {
   "cell_type": "code",
   "execution_count": 2,
   "metadata": {},
   "outputs": [],
   "source": [
    "sys.path.append(os.path.abspath(os.path.dirname('__file__')))\n",
    "from utils.logger import set_logger"
   ]
  },
  {
   "cell_type": "code",
   "execution_count": 6,
   "metadata": {},
   "outputs": [],
   "source": [
    "logger_buy = set_logger(\"BUY\")"
   ]
  },
  {
   "cell_type": "code",
   "execution_count": 7,
   "metadata": {},
   "outputs": [
    {
     "name": "stderr",
     "output_type": "stream",
     "text": [
      "2019-07-06 11:49:56 [BUY] BUY\n"
     ]
    }
   ],
   "source": [
    "logger_buy.info(\"BUY\")"
   ]
  },
  {
   "cell_type": "code",
   "execution_count": 8,
   "metadata": {},
   "outputs": [],
   "source": [
    "logger_sell = set_logger(\"SELL\")"
   ]
  },
  {
   "cell_type": "code",
   "execution_count": 9,
   "metadata": {},
   "outputs": [
    {
     "name": "stderr",
     "output_type": "stream",
     "text": [
      "2019-07-06 11:50:23 [SELL] SELL\n"
     ]
    }
   ],
   "source": [
    "logger_sell.info(\"SELL\")"
   ]
  },
  {
   "cell_type": "code",
   "execution_count": null,
   "metadata": {},
   "outputs": [],
   "source": [
    "# Bithumb API Class 생성\n",
    "with open(\"../../bithumb_api_key.txt\") as f:\n",
    "    lines = f.readlines()\n",
    "    key = lines[0].strip()\n",
    "    secret = lines[1].strip()\n",
    "    bithumb = pybithumb.Bithumb(key, secret)\n",
    "\n",
    "\n",
    "# 자동매수 함수 선언\n",
    "def buy_crypto_currency(ticker):\n",
    "    krw = bithumb.get_balance(ticker)[2]\n",
    "    orderbook = pybithumb.get_orderbook(ticker)\n",
    "    sell_price = orderbook['asks'][0]['price']\n",
    "    unit = krw/float(sell_price)\n",
    "    bithumb.buy_market_order(ticker, unit)\n",
    "    \n",
    "# 자동매도 함수 선언\n",
    "def sell_crypto_currency(ticker) :\n",
    "    unit = bithumb.get_balance(ticker)[0]\n",
    "    bithumb.sell_market_order(ticker, unit)\n",
    "    \n",
    "    \n",
    "def get_today_ma3(ticker) :\n",
    "    df = pybithumb.get_ohlcv(ticker)\n",
    "    close = df['close']\n",
    "    ma3 = close.rolling(window=3).mean()\n",
    "    return ma3[-1]\n",
    "\n",
    "def get_today_ma5(ticker) :\n",
    "    df = pybithumb.get_ohlcv(ticker)\n",
    "    close = df['close']\n",
    "    ma5 = close.rolling(window=5).mean()\n",
    "    return ma5[-1]\n",
    "\n"
   ]
  },
  {
   "cell_type": "code",
   "execution_count": null,
   "metadata": {},
   "outputs": [],
   "source": [
    "while True : \n",
    "    try :\n",
    "        ma3 = get_today_ma3(\"ZIL\")\n",
    "        ma5 = get_today_ma5(\"ZIL\")\n",
    "        \n",
    "        if ma3 < ma5 :\n",
    "            buy_crypto_currency(\"ZIL\")\n",
    "            \n",
    "        if ma3 > ma5 :\n",
    "            sell_crypto_currency(\"ZIL\")\n",
    "            \n",
    "    except :\n",
    "        print(\"에러 발생\")\n",
    "    time.sleep(1)"
   ]
  }
 ],
 "metadata": {
  "kernelspec": {
   "display_name": "Python 3",
   "language": "python",
   "name": "python3"
  },
  "language_info": {
   "codemirror_mode": {
    "name": "ipython",
    "version": 3
   },
   "file_extension": ".py",
   "mimetype": "text/x-python",
   "name": "python",
   "nbconvert_exporter": "python",
   "pygments_lexer": "ipython3",
   "version": "3.7.3"
  }
 },
 "nbformat": 4,
 "nbformat_minor": 2
}
