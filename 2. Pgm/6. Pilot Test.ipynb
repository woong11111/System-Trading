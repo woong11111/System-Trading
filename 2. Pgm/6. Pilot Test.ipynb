{
 "cells": [
  {
   "cell_type": "markdown",
   "metadata": {},
   "source": [
    "## 1. 자동매수/자동매도"
   ]
  },
  {
   "cell_type": "code",
   "execution_count": 40,
   "metadata": {},
   "outputs": [
    {
     "ename": "KeyboardInterrupt",
     "evalue": "",
     "output_type": "error",
     "traceback": [
      "\u001b[1;31m---------------------------------------------------------------------------\u001b[0m",
      "\u001b[1;31mKeyboardInterrupt\u001b[0m                         Traceback (most recent call last)",
      "\u001b[1;32m<ipython-input-40-a859f68306b0>\u001b[0m in \u001b[0;36m<module>\u001b[1;34m\u001b[0m\n\u001b[0;32m     54\u001b[0m     \u001b[1;32mexcept\u001b[0m \u001b[1;33m:\u001b[0m\u001b[1;33m\u001b[0m\u001b[1;33m\u001b[0m\u001b[0m\n\u001b[0;32m     55\u001b[0m         \u001b[0mprint\u001b[0m\u001b[1;33m(\u001b[0m\u001b[1;34m\"에러 발생\"\u001b[0m\u001b[1;33m)\u001b[0m\u001b[1;33m\u001b[0m\u001b[1;33m\u001b[0m\u001b[0m\n\u001b[1;32m---> 56\u001b[1;33m     \u001b[0mtime\u001b[0m\u001b[1;33m.\u001b[0m\u001b[0msleep\u001b[0m\u001b[1;33m(\u001b[0m\u001b[1;36m1\u001b[0m\u001b[1;33m)\u001b[0m\u001b[1;33m\u001b[0m\u001b[1;33m\u001b[0m\u001b[0m\n\u001b[0m",
      "\u001b[1;31mKeyboardInterrupt\u001b[0m: "
     ]
    }
   ],
   "source": [
    "import time\n",
    "import pybithumb\n",
    "import datetime\n",
    "\n",
    "\n",
    "# 자동매수 함수 선언\n",
    "def buy_crypto_currency(ticker):\n",
    "    krw = bithumb.get_balance(ticker)[2]\n",
    "    orderbook = pybithumb.get_orderbook(ticker)\n",
    "    sell_price = orderbook['asks'][0]['price']\n",
    "    unit = krw/float(sell_price)\n",
    "    bithumb.buy_market_order(ticker, unit)\n",
    "    \n",
    "# 자동매도 함수 선언\n",
    "def sell_crypto_currency(ticker) :\n",
    "    unit = bithumb.get_balance(ticker)[0]\n",
    "    bithumb.sell_market_order(ticker, unit)\n",
    "    \n",
    "    \n",
    "# Bithumb API Class 생성\n",
    "with open(\"../../bithumb_api_key.txt\") as f:\n",
    "    lines = f.readlines()\n",
    "    key = lines[0].strip()\n",
    "    secret = lines[1].strip()\n",
    "    bithumb = pybithumb.Bithumb(key, secret)\n",
    "    \n",
    "\n",
    "def get_target_price(ticker):\n",
    "    df = pybithumb.get_ohlcv(ticker)\n",
    "    yesterday = df.iloc[-2]\n",
    "    today_open = yesterday['close']\n",
    "    yesterday_high = yesterday['high']\n",
    "    yesterday_low = yesterday['low']\n",
    "    target = today_open + (yesterday_high - yesterday_low) * 0.5\n",
    "    return target\n",
    "\n",
    "now = datetime.datetime.now()\n",
    "mid = datetime.datetime(now.year, now.month, now.day) + datetime.timedelta(1)\n",
    "target_price = get_target_price(\"ZIL\")\n",
    "target_price1 = 24.0\n",
    "\n",
    "while True : \n",
    "    try :\n",
    "        now = datetime.datetime.now()\n",
    "        if mid < now < mid + datetime.timedelta(seconds=10) :\n",
    "            target_price = get_target_price(\"ZIL\")\n",
    "            mid = datetime.datetime(now.year, now.month, now.day) + datetime.timedelta(1)\n",
    "            sell_crypto_currency(\"ZIL\")\n",
    "    \n",
    "        current_price = pybithumb.get_current_price(\"ZIL\")\n",
    "        if current_price > target_price1 :\n",
    "            buy_crypto_currency(\"ZIL\")\n",
    "            \n",
    "    except :\n",
    "        print(\"에러 발생\")\n",
    "    time.sleep(1)"
   ]
  },
  {
   "cell_type": "code",
   "execution_count": 27,
   "metadata": {},
   "outputs": [],
   "source": [
    "import datetime"
   ]
  },
  {
   "cell_type": "code",
   "execution_count": 38,
   "metadata": {},
   "outputs": [
    {
     "ename": "KeyError",
     "evalue": "'ask'",
     "output_type": "error",
     "traceback": [
      "\u001b[1;31m---------------------------------------------------------------------------\u001b[0m",
      "\u001b[1;31mKeyError\u001b[0m                                  Traceback (most recent call last)",
      "\u001b[1;32m<ipython-input-38-b4436dfded7b>\u001b[0m in \u001b[0;36m<module>\u001b[1;34m\u001b[0m\n\u001b[1;32m----> 1\u001b[1;33m \u001b[0mbuy_crypto_currency\u001b[0m\u001b[1;33m(\u001b[0m\u001b[1;34m\"EOS\"\u001b[0m\u001b[1;33m)\u001b[0m\u001b[1;33m\u001b[0m\u001b[1;33m\u001b[0m\u001b[0m\n\u001b[0m",
      "\u001b[1;32m<ipython-input-37-f7708d9e28bc>\u001b[0m in \u001b[0;36mbuy_crypto_currency\u001b[1;34m(ticker)\u001b[0m\n\u001b[0;32m      2\u001b[0m     \u001b[0mkrw\u001b[0m \u001b[1;33m=\u001b[0m \u001b[0mbithumb\u001b[0m\u001b[1;33m.\u001b[0m\u001b[0mget_balance\u001b[0m\u001b[1;33m(\u001b[0m\u001b[0mticker\u001b[0m\u001b[1;33m)\u001b[0m\u001b[1;33m[\u001b[0m\u001b[1;36m2\u001b[0m\u001b[1;33m]\u001b[0m\u001b[1;33m\u001b[0m\u001b[1;33m\u001b[0m\u001b[0m\n\u001b[0;32m      3\u001b[0m     \u001b[0morderbook\u001b[0m \u001b[1;33m=\u001b[0m \u001b[0mpybithumb\u001b[0m\u001b[1;33m.\u001b[0m\u001b[0mget_orderbook\u001b[0m\u001b[1;33m(\u001b[0m\u001b[0mticker\u001b[0m\u001b[1;33m)\u001b[0m\u001b[1;33m\u001b[0m\u001b[1;33m\u001b[0m\u001b[0m\n\u001b[1;32m----> 4\u001b[1;33m     \u001b[0msell_price\u001b[0m \u001b[1;33m=\u001b[0m \u001b[0morderbook\u001b[0m\u001b[1;33m[\u001b[0m\u001b[1;34m'ask'\u001b[0m\u001b[1;33m]\u001b[0m\u001b[1;33m[\u001b[0m\u001b[1;36m0\u001b[0m\u001b[1;33m]\u001b[0m\u001b[1;33m[\u001b[0m\u001b[1;34m'price'\u001b[0m\u001b[1;33m]\u001b[0m\u001b[1;33m\u001b[0m\u001b[1;33m\u001b[0m\u001b[0m\n\u001b[0m\u001b[0;32m      5\u001b[0m     \u001b[0munit\u001b[0m \u001b[1;33m=\u001b[0m \u001b[0mkrw\u001b[0m\u001b[1;33m/\u001b[0m\u001b[0mfloat\u001b[0m\u001b[1;33m(\u001b[0m\u001b[0msell_price\u001b[0m\u001b[1;33m)\u001b[0m\u001b[1;33m\u001b[0m\u001b[1;33m\u001b[0m\u001b[0m\n\u001b[0;32m      6\u001b[0m     \u001b[0mbithumb\u001b[0m\u001b[1;33m.\u001b[0m\u001b[0mbuy_market_order\u001b[0m\u001b[1;33m(\u001b[0m\u001b[0mticker\u001b[0m\u001b[1;33m,\u001b[0m \u001b[0munit\u001b[0m\u001b[1;33m)\u001b[0m\u001b[1;33m\u001b[0m\u001b[1;33m\u001b[0m\u001b[0m\n",
      "\u001b[1;31mKeyError\u001b[0m: 'ask'"
     ]
    }
   ],
   "source": [
    "buy_crypto_currency(\"EOS\")"
   ]
  },
  {
   "cell_type": "code",
   "execution_count": 37,
   "metadata": {},
   "outputs": [],
   "source": [
    "def buy_crypto_currency(ticker):\n",
    "    krw = bithumb.get_balance(ticker)[2]\n",
    "    orderbook = pybithumb.get_orderbook(ticker)\n",
    "    sell_price = orderbook['ask'][0]['price']\n",
    "    unit = krw/float(sell_price)\n",
    "    bithumb.buy_market_order(ticker, unit)\n",
    "    \n",
    "# 자동매도 함수 선언\n",
    "def sell_crypto_currency(ticker) :\n",
    "    unit = bithumb.get_balance(ticker)[0]\n",
    "    bithumb.sell_market_order(ticker, unit)\n",
    "    "
   ]
  },
  {
   "cell_type": "code",
   "execution_count": null,
   "metadata": {},
   "outputs": [],
   "source": []
  }
 ],
 "metadata": {
  "kernelspec": {
   "display_name": "Python 3",
   "language": "python",
   "name": "python3"
  },
  "language_info": {
   "codemirror_mode": {
    "name": "ipython",
    "version": 3
   },
   "file_extension": ".py",
   "mimetype": "text/x-python",
   "name": "python",
   "nbconvert_exporter": "python",
   "pygments_lexer": "ipython3",
   "version": "3.7.3"
  }
 },
 "nbformat": 4,
 "nbformat_minor": 2
}
