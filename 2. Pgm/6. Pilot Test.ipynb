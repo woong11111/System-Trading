{
 "cells": [
  {
   "cell_type": "markdown",
   "metadata": {},
   "source": [
    "## 1. 자동매수/자동매도"
   ]
  },
  {
   "cell_type": "code",
   "execution_count": 189,
   "metadata": {},
   "outputs": [],
   "source": [
    "import time\n",
    "import pybithumb\n",
    "import datetime\n",
    "\n",
    "\n",
    "# 자동매수 함수 선언\n",
    "def buy_crypto_currency(ticker):\n",
    "    krw = bithumb.get_balance(ticker)[2]\n",
    "    orderbook = pybithumb.get_orderbook(ticker)\n",
    "    sell_price = orderbook['asks'][0]['price']\n",
    "    unit = krw/float(sell_price)\n",
    "    bithumb.buy_market_order(ticker, unit)\n",
    "    \n",
    "# 자동매도 함수 선언\n",
    "def sell_crypto_currency(ticker) :\n",
    "    unit = bithumb.get_balance(ticker)[0]\n",
    "    bithumb.sell_market_order(ticker, unit)\n",
    "    \n",
    "    \n",
    "# Bithumb API Class 생성\n",
    "with open(\"../../bithumb_api_key.txt\") as f:\n",
    "    lines = f.readlines()\n",
    "    key = lines[0].strip()\n",
    "    secret = lines[1].strip()\n",
    "    bithumb = pybithumb.Bithumb(key, secret)\n",
    "    \n",
    "\n",
    "def get_target_price(ticker):\n",
    "    df = pybithumb.get_ohlcv(ticker)\n",
    "    yesterday = df.iloc[-2]\n",
    "    today_open = yesterday['close'] #28.5\n",
    "    yesterday_high = yesterday['high'] # 28.8\n",
    "    yesterday_low = yesterday['low'] # 26.6\n",
    "    target = today_open + (yesterday_high - yesterday_low) * 0.5\n",
    "    return target\n",
    "\n"
   ]
  },
  {
   "cell_type": "code",
   "execution_count": 91,
   "metadata": {},
   "outputs": [],
   "source": [
    "now = datetime.datetime.now()"
   ]
  },
  {
   "cell_type": "code",
   "execution_count": 175,
   "metadata": {},
   "outputs": [],
   "source": [
    "mid = datetime.datetime(now.year, now.month, now.day) + datetime.timedelta(hours=10)"
   ]
  },
  {
   "cell_type": "code",
   "execution_count": 176,
   "metadata": {},
   "outputs": [
    {
     "data": {
      "text/plain": [
       "datetime.datetime(2019, 6, 22, 14, 25, 43, 590216)"
      ]
     },
     "execution_count": 176,
     "metadata": {},
     "output_type": "execute_result"
    }
   ],
   "source": [
    "now"
   ]
  },
  {
   "cell_type": "code",
   "execution_count": 177,
   "metadata": {},
   "outputs": [
    {
     "data": {
      "text/plain": [
       "datetime.datetime(2019, 6, 22, 10, 0)"
      ]
     },
     "execution_count": 177,
     "metadata": {},
     "output_type": "execute_result"
    }
   ],
   "source": [
    "mid"
   ]
  },
  {
   "cell_type": "code",
   "execution_count": 156,
   "metadata": {},
   "outputs": [
    {
     "data": {
      "text/plain": [
       "False"
      ]
     },
     "execution_count": 156,
     "metadata": {},
     "output_type": "execute_result"
    }
   ],
   "source": [
    "mid > now"
   ]
  },
  {
   "cell_type": "code",
   "execution_count": null,
   "metadata": {},
   "outputs": [],
   "source": [
    "\n",
    "while True : \n",
    "    try :\n",
    "        now = datetime.datetime.now()\n",
    "        if mid < now < mid + datetime.timedelta(seconds=10) :\n",
    "            target_price = get_target_price(\"ZIL\")\n",
    "            mid = datetime.datetime(now.year, now.month, now.day) + datetime.timedelta(1)\n",
    "            sell_crypto_currency(\"ZIL\")\n",
    "    \n",
    "        current_price = pybithumb.get_current_price(\"ZIL\")\n",
    "        if current_price > target_price1 :\n",
    "            buy_crypto_currency(\"ZIL\")\n",
    "            \n",
    "    except :\n",
    "        print(\"에러 발생\")\n",
    "    time.sleep(1)"
   ]
  },
  {
   "cell_type": "code",
   "execution_count": 5,
   "metadata": {},
   "outputs": [],
   "source": [
    "target_price = get_target_price(\"ZIL\")"
   ]
  },
  {
   "cell_type": "code",
   "execution_count": 6,
   "metadata": {},
   "outputs": [
    {
     "data": {
      "text/plain": [
       "27.150000000000002"
      ]
     },
     "execution_count": 6,
     "metadata": {},
     "output_type": "execute_result"
    }
   ],
   "source": [
    "target_price"
   ]
  },
  {
   "cell_type": "code",
   "execution_count": 7,
   "metadata": {},
   "outputs": [
    {
     "name": "stdout",
     "output_type": "stream",
     "text": [
      "26.4\n"
     ]
    }
   ],
   "source": [
    "current_price = pybithumb.get_current_price(\"ZIL\")\n",
    "print(current_price)"
   ]
  },
  {
   "cell_type": "code",
   "execution_count": 9,
   "metadata": {},
   "outputs": [],
   "source": [
    "if current_price < target_price :\n",
    "    sell_crypto_currency(\"ZIL\")"
   ]
  },
  {
   "cell_type": "code",
   "execution_count": 203,
   "metadata": {},
   "outputs": [
    {
     "ename": "KeyboardInterrupt",
     "evalue": "",
     "output_type": "error",
     "traceback": [
      "\u001b[1;31m---------------------------------------------------------------------------\u001b[0m",
      "\u001b[1;31mKeyboardInterrupt\u001b[0m                         Traceback (most recent call last)",
      "\u001b[1;32m<ipython-input-203-239bcb459d58>\u001b[0m in \u001b[0;36m<module>\u001b[1;34m\u001b[0m\n\u001b[0;32m     52\u001b[0m     \u001b[1;32mexcept\u001b[0m \u001b[1;33m:\u001b[0m\u001b[1;33m\u001b[0m\u001b[1;33m\u001b[0m\u001b[0m\n\u001b[0;32m     53\u001b[0m         \u001b[0mprint\u001b[0m\u001b[1;33m(\u001b[0m\u001b[1;34m\"에러 발생\"\u001b[0m\u001b[1;33m)\u001b[0m\u001b[1;33m\u001b[0m\u001b[1;33m\u001b[0m\u001b[0m\n\u001b[1;32m---> 54\u001b[1;33m     \u001b[0mtime\u001b[0m\u001b[1;33m.\u001b[0m\u001b[0msleep\u001b[0m\u001b[1;33m(\u001b[0m\u001b[1;36m1\u001b[0m\u001b[1;33m)\u001b[0m\u001b[1;33m\u001b[0m\u001b[1;33m\u001b[0m\u001b[0m\n\u001b[0m",
      "\u001b[1;31mKeyboardInterrupt\u001b[0m: "
     ]
    }
   ],
   "source": [
    "import time\n",
    "import pybithumb\n",
    "import datetime\n",
    "\n",
    "\n",
    "# Bithumb API Class 생성\n",
    "with open(\"../../bithumb_api_key.txt\") as f:\n",
    "    lines = f.readlines()\n",
    "    key = lines[0].strip()\n",
    "    secret = lines[1].strip()\n",
    "    bithumb = pybithumb.Bithumb(key, secret)\n",
    "\n",
    "\n",
    "# 자동매수 함수 선언\n",
    "def buy_crypto_currency(ticker):\n",
    "    krw = bithumb.get_balance(ticker)[2]\n",
    "    orderbook = pybithumb.get_orderbook(ticker)\n",
    "    sell_price = orderbook['asks'][0]['price']\n",
    "    unit = krw/float(sell_price)\n",
    "    bithumb.buy_market_order(ticker, unit)\n",
    "    \n",
    "# 자동매도 함수 선언\n",
    "def sell_crypto_currency(ticker) :\n",
    "    unit = bithumb.get_balance(ticker)[0]\n",
    "    bithumb.sell_market_order(ticker, unit)\n",
    "    \n",
    "    \n",
    "def get_today_ma3(ticker) :\n",
    "    df = pybithumb.get_ohlcv(ticker)\n",
    "    close = df['close']\n",
    "    ma3 = close.rolling(window=3).mean()\n",
    "    return ma3[-1]\n",
    "\n",
    "def get_today_ma5(ticker) :\n",
    "    df = pybithumb.get_ohlcv(ticker)\n",
    "    close = df['close']\n",
    "    ma5 = close.rolling(window=5).mean()\n",
    "    return ma5[-1]\n",
    "\n",
    "\n",
    "while True : \n",
    "    try :\n",
    "        ma3 = get_today_ma3(\"ZIL\")\n",
    "        ma5 = get_today_ma5(\"ZIL\")\n",
    "        \n",
    "        if ma3 < ma5 :\n",
    "            buy_crypto_currency(\"ZIL\")\n",
    "            \n",
    "        if ma3 > ma5 :\n",
    "            sell_crypto_currency(\"ZIL\")\n",
    "            \n",
    "    except :\n",
    "        print(\"에러 발생\")\n",
    "    time.sleep(1)"
   ]
  },
  {
   "cell_type": "code",
   "execution_count": 199,
   "metadata": {},
   "outputs": [
    {
     "data": {
      "text/plain": [
       "True"
      ]
     },
     "execution_count": 199,
     "metadata": {},
     "output_type": "execute_result"
    }
   ],
   "source": [
    "ma3 < ma5"
   ]
  },
  {
   "cell_type": "code",
   "execution_count": 186,
   "metadata": {},
   "outputs": [
    {
     "name": "stdout",
     "output_type": "stream",
     "text": [
      "11737000.0 11396400.0\n"
     ]
    }
   ],
   "source": [
    "def get_today_ma3(ticker) :\n",
    "    df = pybithumb.get_ohlcv(ticker)\n",
    "    close = df['close']\n",
    "    ma3 = close.rolling(window=3).mean()\n",
    "    return ma3[-1]\n",
    "\n",
    "def get_today_ma5(ticker) :\n",
    "    df = pybithumb.get_ohlcv(ticker)\n",
    "    close = df['close']\n",
    "    ma5 = close.rolling(window=5).mean()\n",
    "    return ma5[-1]\n",
    "\n",
    "ma3 = get_today_ma3(\"BTC\")\n",
    "ma5 = get_today_ma5(\"BTC\")\n",
    "print(ma3, ma5)"
   ]
  },
  {
   "cell_type": "code",
   "execution_count": 185,
   "metadata": {},
   "outputs": [
    {
     "data": {
      "text/plain": [
       "2013-12-27 00:00:00             NaN\n",
       "2013-12-28 00:00:00             NaN\n",
       "2013-12-29 00:00:00    7.480000e+05\n",
       "2013-12-30 00:00:00    7.523333e+05\n",
       "2013-12-31 00:00:00    7.583333e+05\n",
       "2014-01-01 00:00:00    7.710000e+05\n",
       "2014-01-02 00:00:00    7.743333e+05\n",
       "2014-01-03 00:00:00    7.963333e+05\n",
       "2014-01-04 00:00:00    8.193333e+05\n",
       "2014-01-05 00:00:00    8.683333e+05\n",
       "2014-01-06 00:00:00    9.270000e+05\n",
       "2014-01-07 00:00:00    9.566667e+05\n",
       "2014-01-08 00:00:00    9.473333e+05\n",
       "2014-01-09 00:00:00    8.990000e+05\n",
       "2014-01-10 00:00:00    8.840000e+05\n",
       "2014-01-11 00:00:00    8.956667e+05\n",
       "2014-01-12 00:00:00    9.106667e+05\n",
       "2014-01-13 00:00:00    9.076667e+05\n",
       "2014-01-14 00:00:00    8.883333e+05\n",
       "2014-01-15 00:00:00    8.866667e+05\n",
       "2014-01-16 00:00:00    8.963333e+05\n",
       "2014-01-17 00:00:00    9.000000e+05\n",
       "2014-01-18 00:00:00    8.933333e+05\n",
       "2014-01-19 00:00:00    8.876667e+05\n",
       "2014-01-20 00:00:00    8.920000e+05\n",
       "2014-01-21 00:00:00    8.966667e+05\n",
       "2014-01-22 00:00:00    8.963333e+05\n",
       "2014-01-23 00:00:00    8.930000e+05\n",
       "2014-01-24 00:00:00    8.833333e+05\n",
       "2014-01-25 00:00:00    8.760000e+05\n",
       "                           ...     \n",
       "2019-05-24 00:00:00    9.453333e+06\n",
       "2019-05-25 00:00:00    9.504667e+06\n",
       "2019-05-26 00:00:00    9.574667e+06\n",
       "2019-05-27 00:00:00    9.863333e+06\n",
       "2019-05-28 00:00:00    1.010100e+07\n",
       "2019-05-29 00:00:00    1.038533e+07\n",
       "2019-05-30 00:00:00    1.037233e+07\n",
       "2019-05-31 00:00:00    1.035300e+07\n",
       "2019-06-01 00:00:00    1.031267e+07\n",
       "2019-06-02 00:00:00    1.033067e+07\n",
       "2019-06-03 00:00:00    1.032833e+07\n",
       "2019-06-04 00:00:00    1.016833e+07\n",
       "2019-06-05 00:00:00    9.827000e+06\n",
       "2019-06-06 00:00:00    9.510333e+06\n",
       "2019-06-07 00:00:00    9.456333e+06\n",
       "2019-06-08 00:00:00    9.543667e+06\n",
       "2019-06-09 00:00:00    9.635333e+06\n",
       "2019-06-10 00:00:00    9.644333e+06\n",
       "2019-06-11 00:00:00    9.579000e+06\n",
       "2019-06-12 00:00:00    9.608667e+06\n",
       "2019-06-13 00:00:00    9.645667e+06\n",
       "2019-06-14 00:00:00    9.882667e+06\n",
       "2019-06-15 00:00:00    1.013133e+07\n",
       "2019-06-16 00:00:00    1.054467e+07\n",
       "2019-06-17 00:00:00    1.085533e+07\n",
       "2019-06-18 00:00:00    1.101933e+07\n",
       "2019-06-19 00:00:00    1.097033e+07\n",
       "2019-06-20 00:00:00    1.097000e+07\n",
       "2019-06-21 00:00:00    1.118933e+07\n",
       "2019-06-22 14:00:00    1.173667e+07\n",
       "Name: close, Length: 1913, dtype: float64"
      ]
     },
     "execution_count": 185,
     "metadata": {},
     "output_type": "execute_result"
    }
   ],
   "source": [
    "df = pybithumb.get_ohlcv(\"BTC\")\n",
    "df['close'].rolling(window=3).mean()"
   ]
  },
  {
   "cell_type": "code",
   "execution_count": 204,
   "metadata": {},
   "outputs": [
    {
     "data": {
      "text/plain": [
       "26.76666666666672"
      ]
     },
     "execution_count": 204,
     "metadata": {},
     "output_type": "execute_result"
    }
   ],
   "source": [
    "ma3"
   ]
  },
  {
   "cell_type": "code",
   "execution_count": 205,
   "metadata": {},
   "outputs": [
    {
     "data": {
      "text/plain": [
       "27.53999999999997"
      ]
     },
     "execution_count": 205,
     "metadata": {},
     "output_type": "execute_result"
    }
   ],
   "source": [
    "ma5"
   ]
  },
  {
   "cell_type": "code",
   "execution_count": 209,
   "metadata": {},
   "outputs": [
    {
     "data": {
      "text/plain": [
       "2013-12-27 00:00:00             NaN\n",
       "2013-12-28 00:00:00             NaN\n",
       "2013-12-29 00:00:00    7.480000e+05\n",
       "2013-12-30 00:00:00    7.523333e+05\n",
       "2013-12-31 00:00:00    7.583333e+05\n",
       "2014-01-01 00:00:00    7.710000e+05\n",
       "2014-01-02 00:00:00    7.743333e+05\n",
       "2014-01-03 00:00:00    7.963333e+05\n",
       "2014-01-04 00:00:00    8.193333e+05\n",
       "2014-01-05 00:00:00    8.683333e+05\n",
       "2014-01-06 00:00:00    9.270000e+05\n",
       "2014-01-07 00:00:00    9.566667e+05\n",
       "2014-01-08 00:00:00    9.473333e+05\n",
       "2014-01-09 00:00:00    8.990000e+05\n",
       "2014-01-10 00:00:00    8.840000e+05\n",
       "2014-01-11 00:00:00    8.956667e+05\n",
       "2014-01-12 00:00:00    9.106667e+05\n",
       "2014-01-13 00:00:00    9.076667e+05\n",
       "2014-01-14 00:00:00    8.883333e+05\n",
       "2014-01-15 00:00:00    8.866667e+05\n",
       "2014-01-16 00:00:00    8.963333e+05\n",
       "2014-01-17 00:00:00    9.000000e+05\n",
       "2014-01-18 00:00:00    8.933333e+05\n",
       "2014-01-19 00:00:00    8.876667e+05\n",
       "2014-01-20 00:00:00    8.920000e+05\n",
       "2014-01-21 00:00:00    8.966667e+05\n",
       "2014-01-22 00:00:00    8.963333e+05\n",
       "2014-01-23 00:00:00    8.930000e+05\n",
       "2014-01-24 00:00:00    8.833333e+05\n",
       "2014-01-25 00:00:00    8.760000e+05\n",
       "                           ...     \n",
       "2019-05-24 00:00:00    9.453333e+06\n",
       "2019-05-25 00:00:00    9.504667e+06\n",
       "2019-05-26 00:00:00    9.574667e+06\n",
       "2019-05-27 00:00:00    9.863333e+06\n",
       "2019-05-28 00:00:00    1.010100e+07\n",
       "2019-05-29 00:00:00    1.038533e+07\n",
       "2019-05-30 00:00:00    1.037233e+07\n",
       "2019-05-31 00:00:00    1.035300e+07\n",
       "2019-06-01 00:00:00    1.031267e+07\n",
       "2019-06-02 00:00:00    1.033067e+07\n",
       "2019-06-03 00:00:00    1.032833e+07\n",
       "2019-06-04 00:00:00    1.016833e+07\n",
       "2019-06-05 00:00:00    9.827000e+06\n",
       "2019-06-06 00:00:00    9.510333e+06\n",
       "2019-06-07 00:00:00    9.456333e+06\n",
       "2019-06-08 00:00:00    9.543667e+06\n",
       "2019-06-09 00:00:00    9.635333e+06\n",
       "2019-06-10 00:00:00    9.644333e+06\n",
       "2019-06-11 00:00:00    9.579000e+06\n",
       "2019-06-12 00:00:00    9.608667e+06\n",
       "2019-06-13 00:00:00    9.645667e+06\n",
       "2019-06-14 00:00:00    9.882667e+06\n",
       "2019-06-15 00:00:00    1.013133e+07\n",
       "2019-06-16 00:00:00    1.054467e+07\n",
       "2019-06-17 00:00:00    1.085533e+07\n",
       "2019-06-18 00:00:00    1.101933e+07\n",
       "2019-06-19 00:00:00    1.097033e+07\n",
       "2019-06-20 00:00:00    1.097000e+07\n",
       "2019-06-21 00:00:00    1.118933e+07\n",
       "2019-06-22 15:00:00    1.172967e+07\n",
       "Name: close, Length: 1913, dtype: float64"
      ]
     },
     "execution_count": 209,
     "metadata": {},
     "output_type": "execute_result"
    }
   ],
   "source": [
    "df = pybithumb.get_ohlcv(\"BTC\")\n",
    "close = df['close']\n",
    "ma3 = close.rolling(window=3).mean()\n",
    "ma3"
   ]
  },
  {
   "cell_type": "code",
   "execution_count": 206,
   "metadata": {},
   "outputs": [
    {
     "name": "stdout",
     "output_type": "stream",
     "text": [
      "11729000.0 11391600.0\n"
     ]
    }
   ],
   "source": [
    "ma3 = get_today_ma3(\"BTC\")\n",
    "ma5 = get_today_ma5(\"BTC\")\n",
    "print(ma3, ma5)"
   ]
  },
  {
   "cell_type": "code",
   "execution_count": null,
   "metadata": {},
   "outputs": [],
   "source": [
    "ma3 = get_today_ma3(\"BTC\")\n",
    "ma5 = get_today_ma5(\"BTC\")\n",
    "print(ma3, ma5)"
   ]
  }
 ],
 "metadata": {
  "kernelspec": {
   "display_name": "Python 3",
   "language": "python",
   "name": "python3"
  },
  "language_info": {
   "codemirror_mode": {
    "name": "ipython",
    "version": 3
   },
   "file_extension": ".py",
   "mimetype": "text/x-python",
   "name": "python",
   "nbconvert_exporter": "python",
   "pygments_lexer": "ipython3",
   "version": "3.7.3"
  }
 },
 "nbformat": 4,
 "nbformat_minor": 2
}
