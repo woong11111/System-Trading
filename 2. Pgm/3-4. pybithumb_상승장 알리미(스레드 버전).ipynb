{
 "cells": [
  {
   "cell_type": "markdown",
   "metadata": {},
   "source": [
    "## 1. 상승장/하락장 알리미(스레드 사용)\n",
    "\n",
    " - 상승장/하락장 알리미에 코인의 가격만을 조회하는 전용 스레드를 추가하면 메인 스레드는 GUI를 담당하고,\n",
    " \n",
    "   추가한 스레드는 가격 조회만을 담당하기 때문에 버벅대는 문제를 해결할 수 있음"
   ]
  },
  {
   "cell_type": "code",
   "execution_count": 1,
   "metadata": {},
   "outputs": [
    {
     "data": {
      "text/plain": [
       "0"
      ]
     },
     "execution_count": 1,
     "metadata": {},
     "output_type": "execute_result"
    },
    {
     "name": "stdout",
     "output_type": "stream",
     "text": [
      "It failed TypeError\n"
     ]
    }
   ],
   "source": [
    "import sys\n",
    "from PyQt5.QtWidgets import *\n",
    "from PyQt5 import uic\n",
    "from PyQt5.QtCore import *\n",
    "import pybithumb\n",
    "import time\n",
    "\n",
    "tickers = [\"BTC\", \"LTC\", \"BSV\", \"ZIL\"]\n",
    "form_class = uic.loadUiType(\"Long_or_Short_Alarm.ui\")[0]\n",
    "\n",
    "class Worker(QThread):\n",
    "    finished = pyqtSignal(dict)\n",
    "    \n",
    "    def run(self):\n",
    "        while True :\n",
    "            data = {}\n",
    "            \n",
    "            for ticker in tickers :\n",
    "                data[ticker] = self.get_market_infos(ticker)\n",
    "                \n",
    "                self.finished.emit(data)\n",
    "                time.sleep(2)\n",
    "                \n",
    "    def get_market_infos(self, ticker):\n",
    "        try :\n",
    "            df = pybithumb.get_ohlcv(ticker)\n",
    "            ma5 = df['close'].rolling(window=5).mean()\n",
    "            last_ma5 = ma5[-2]\n",
    "            price = pybithumb.get_current_price(ticker)\n",
    "            \n",
    "            state=None\n",
    "            if price > last_ma5 :\n",
    "                state = \"상승장\"\n",
    "                \n",
    "            else:\n",
    "                state = \"하락장\"\n",
    "                \n",
    "            return price, last_ma5, state\n",
    "        \n",
    "        except :\n",
    "            return None, None, None\n",
    "        \n",
    "class MyWindow(QMainWindow, form_class):\n",
    "    def __init__(self):\n",
    "        super().__init__()\n",
    "        self.setupUi(self)\n",
    "        \n",
    "        self.worker = Worker()\n",
    "        self.worker.finished.connect(self.update_table_widget)\n",
    "        self.worker.start()\n",
    "        \n",
    "    @pyqtSlot(dict)\n",
    "    \n",
    "    def update_table_widget(self, data):\n",
    "        try :\n",
    "            for ticker, infos in data.items():\n",
    "                index = tickers.index(ticker)\n",
    "                \n",
    "                self.tableWidget.setItem(index, 0, QTableWidgetItem(ticker))\n",
    "                self.tableWidget.setItem(index, 1, QTableWidgetItem(str(infos[0])))\n",
    "                self.tableWidget.setItem(index, 2, QTableWidgetItem(str(infos[1])))\n",
    "                self.tableWidget.setItem(index, 3, QTableWidgetItem(str(infos[2])))\n",
    "                \n",
    "        except :\n",
    "            pass\n",
    "                \n",
    "app = QApplication(sys.argv)\n",
    "window = MyWindow()\n",
    "window.show()\n",
    "app.exec_()"
   ]
  },
  {
   "cell_type": "markdown",
   "metadata": {},
   "source": [
    "## 2. 결과"
   ]
  },
  {
   "cell_type": "code",
   "execution_count": 3,
   "metadata": {},
   "outputs": [
    {
     "data": {
      "image/png": "[encoded data removed]",
      "text/plain": [
       "<IPython.core.display.Image object>"
      ]
     },
     "execution_count": 3,
     "metadata": {},
     "output_type": "execute_result"
    }
   ],
   "source": [
    "from IPython.display import Image\n",
    "Image(\"../1. Data/Thread_Alarm.png\")"
   ]
  },
  {
   "cell_type": "code",
   "execution_count": null,
   "metadata": {},
   "outputs": [],
   "source": []
  }
 ],
 "metadata": {
  "kernelspec": {
   "display_name": "Python 3",
   "language": "python",
   "name": "python3"
  },
  "language_info": {
   "codemirror_mode": {
    "name": "ipython",
    "version": 3
   },
   "file_extension": ".py",
   "mimetype": "text/x-python",
   "name": "python",
   "nbconvert_exporter": "python",
   "pygments_lexer": "ipython3",
   "version": "3.7.3"
  }
 },
 "nbformat": 4,
 "nbformat_minor": 2
}
